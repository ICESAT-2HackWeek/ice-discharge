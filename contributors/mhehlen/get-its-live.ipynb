{
 "cells": [
  {
   "cell_type": "code",
   "execution_count": 28,
   "id": "c35b16b3-1e57-4e0d-a3c3-3ebbbefbaa07",
   "metadata": {},
   "outputs": [],
   "source": [
    "# Import dependancies\n",
    "\n",
    "#from earthdata import Auth, DataCollections, DataGranules, Store # Used to ingest data from NSIDC\n",
    "#import geopandas as gpd # Used to subset regions using shapefile\n",
    "#import rioxarray as rx # Used to read raster data from hdf5 files\n",
    "\n",
    "# Set working directories (local)\n",
    "\n",
    "#data_loc = \"/home/jovyan/data/\""
   ]
  },
  {
   "cell_type": "code",
   "execution_count": 46,
   "id": "73aa86c4-0051-4025-9022-ac82fa9d9bdb",
   "metadata": {},
   "outputs": [],
   "source": [
    "Resolution=input(\"Enter the desired velocity resolution (120 or 240): \")\n",
    "MosaicYear=input(\"Enter the desired year for its-live velocity mosaic (most recent 2018): \")\n",
    "url = \"https://its-live-data.s3.amazonaws.com/velocity_mosaic/landsat/v00.0/annual/ANT_G0\"+Resolution+\"_\"+MosaicYear+\".nc\"\n",
    "\n",
    "#for example, 240m 2018 mosaic is: https://its-live-data.s3.amazonaws.com/velocity_mosaic/landsat/v00.0/annual/ANT_G0240_2018.nc\n",
    "\n",
    "! wget -nc https://its-live-data.s3.amazonaws.com/velocity_mosaic/landsat/v00.0/static/ANT_G0240_0000.nc -P /home/jovyan/data/its_live"
   ]
  },
  {
   "cell_type": "code",
   "execution_count": null,
   "id": "90fdcc5e-7edd-41aa-be33-ce724fa8e938",
   "metadata": {},
   "outputs": [],
   "source": []
  }
 ],
 "metadata": {
  "kernelspec": {
   "display_name": "Python 3 (ipykernel)",
   "language": "python",
   "name": "python3"
  },
  "language_info": {
   "codemirror_mode": {
    "name": "ipython",
    "version": 3
   },
   "file_extension": ".py",
   "mimetype": "text/x-python",
   "name": "python",
   "nbconvert_exporter": "python",
   "pygments_lexer": "ipython3",
   "version": "3.9.10"
  }
 },
 "nbformat": 4,
 "nbformat_minor": 5
}
