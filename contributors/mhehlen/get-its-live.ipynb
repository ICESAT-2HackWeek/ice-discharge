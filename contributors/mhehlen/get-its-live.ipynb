{
 "cells": [
  {
   "cell_type": "code",
   "execution_count": 28,
   "id": "c35b16b3-1e57-4e0d-a3c3-3ebbbefbaa07",
   "metadata": {},
   "outputs": [],
   "source": [
    "# Import dependancies\n",
    "\n",
    "#from earthdata import Auth, DataCollections, DataGranules, Store # Used to ingest data from NSIDC\n",
    "import geopandas as gpd # Used to subset regions using shapefile\n",
    "import rioxarray as rx # Used to read raster data from hdf5 files\n",
    "\n",
    "# Set working directories (local)\n",
    "\n",
    "data_loc = \"/home/jovyan/data/\""
   ]
  },
  {
   "cell_type": "code",
   "execution_count": 45,
   "id": "73aa86c4-0051-4025-9022-ac82fa9d9bdb",
   "metadata": {},
   "outputs": [
    {
     "name": "stdin",
     "output_type": "stream",
     "text": [
      "Enter the desired velocity resolution (120 or 240):  240\n",
      "Enter the desired year for its-live velocity mosaic (most recent 2018):  2018\n"
     ]
    },
    {
     "name": "stdout",
     "output_type": "stream",
     "text": [
      "--2022-03-23 23:47:54--  https://its-live-data.s3.amazonaws.com/velocity_mosaic/landsat/v00.0/static/ANT_G0240_0000.nc\n",
      "Resolving its-live-data.s3.amazonaws.com (its-live-data.s3.amazonaws.com)... 52.218.168.115\n",
      "Connecting to its-live-data.s3.amazonaws.com (its-live-data.s3.amazonaws.com)|52.218.168.115|:443... connected.\n",
      "HTTP request sent, awaiting response... 200 OK\n",
      "Length: 5370044050 (5.0G) [application/x-netcdf]\n",
      "Saving to: ‘/home/jovyan/data/its_live/ANT_G0240_0000.nc’\n",
      "\n",
      "ANT_G0240_0000.nc   100%[===================>]   5.00G  39.3MB/s    in 2m 48s  \n",
      "\n",
      "2022-03-23 23:50:44 (30.5 MB/s) - ‘/home/jovyan/data/its_live/ANT_G0240_0000.nc’ saved [5370044050/5370044050]\n",
      "\n"
     ]
    }
   ],
   "source": [
    "Resolution=input(\"Enter the desired velocity resolution (120 or 240): \")\n",
    "MosaicYear=input(\"Enter the desired year for its-live velocity mosaic (most recent 2018): \")\n",
    "url = \"https://its-live-data.s3.amazonaws.com/velocity_mosaic/landsat/v00.0/annual/ANT_G0\"+Resolution+\"_\"+MosaicYear+\".nc\"\n",
    "\n",
    "#for example, 240m 2018 mosaic is: https://its-live-data.s3.amazonaws.com/velocity_mosaic/landsat/v00.0/annual/ANT_G0240_2018.nc\n",
    "\n",
    "! wget -nc https://its-live-data.s3.amazonaws.com/velocity_mosaic/landsat/v00.0/static/ANT_G0240_0000.nc -P /home/jovyan/data/its_live"
   ]
  },
  {
   "cell_type": "code",
   "execution_count": null,
   "id": "90fdcc5e-7edd-41aa-be33-ce724fa8e938",
   "metadata": {},
   "outputs": [],
   "source": []
  }
 ],
 "metadata": {
  "kernelspec": {
   "display_name": "Python 3 (ipykernel)",
   "language": "python",
   "name": "python3"
  },
  "language_info": {
   "codemirror_mode": {
    "name": "ipython",
    "version": 3
   },
   "file_extension": ".py",
   "mimetype": "text/x-python",
   "name": "python",
   "nbconvert_exporter": "python",
   "pygments_lexer": "ipython3",
   "version": "3.9.10"
  }
 },
 "nbformat": 4,
 "nbformat_minor": 5
}
