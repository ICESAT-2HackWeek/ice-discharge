{
 "cells": [
  {
   "cell_type": "code",
   "execution_count": 1,
   "id": "ba02e8b9-f9d0-4548-8969-091132083cdb",
   "metadata": {},
   "outputs": [],
   "source": [
    "# from earthdata import Auth, DataCollections, DataGranules, Store # Used to ingest data from NSIDC\n",
    "# import geopandas as gpd # Used to subset regions using shapefile\n",
    "# import rioxarray as rx # Used to read raster data from hdf5 files\n"
   ]
  },
  {
   "cell_type": "code",
   "execution_count": null,
   "id": "83446dca-4ee1-407e-8c0a-8777dbcbdc1f",
   "metadata": {},
   "outputs": [],
   "source": [
    "#COMMENTED OUT SECTIONS WERE PULLED FOR TESTING. ALL THAT IS NEEDED IS THE BOTTOM CELL"
   ]
  },
  {
   "cell_type": "code",
   "execution_count": 1,
   "id": "da37e125-4980-4f16-92ab-06321351540e",
   "metadata": {},
   "outputs": [],
   "source": [
    "# Set working directories\n",
    "\n",
    "data_loc = \"/home/jovyan/data/\""
   ]
  },
  {
   "cell_type": "code",
   "execution_count": 2,
   "id": "a57cb663-e264-49c8-85de-619c3c93c95a",
   "metadata": {},
   "outputs": [],
   "source": [
    "# # Authenticate Earthdata credentials\n",
    "\n",
    "# auth = Auth().login(strategy='netrc')\n",
    "# if auth.authenticated is False:\n",
    "#     auth = Auth().login(strategy='interactive')"
   ]
  },
  {
   "cell_type": "code",
   "execution_count": 3,
   "id": "244e844a-395a-4eb8-8892-3586923b1b20",
   "metadata": {},
   "outputs": [],
   "source": [
    "# bd = gpd.read_file(data_loc+\"/boundaries/IceBoundaries_Antarctica_v02.shp\")\n",
    "# # Plot shapefile to make sure it as expected\n",
    "# bd.plot()\n",
    "\n",
    "# # 'Geometry' can be extracted - here, we print out the head of the geometry field\n",
    "# print(bd['geometry'].head())"
   ]
  },
  {
   "cell_type": "code",
   "execution_count": 4,
   "id": "05cf2126-0e2e-49f7-af22-24c5af3ded82",
   "metadata": {},
   "outputs": [],
   "source": [
    "# # Isolated only grounded ice (GR) for the Totten basin\n",
    "# tot = bd[(bd[\"NAME\"] == \"Totten\") & (bd[\"TYPE\"] == \"GR\")]\n",
    "\n",
    "# # Plot the Totten subset\n",
    "# tot.plot()\n",
    "\n",
    "# # View tot to make sure it is as expected\n",
    "# tot"
   ]
  },
  {
   "cell_type": "code",
   "execution_count": 5,
   "id": "5469dff4-1895-4308-8fb5-06e9a692b540",
   "metadata": {},
   "outputs": [],
   "source": [
    "# ## Clip Tot basin bedrock topography: use drainage basin outline shapefile to clip the bedmachine gridded/raster file\n",
    "\n",
    "# ds=rx.open_rasterio(data_loc+\"BedMachineAntarctica_2019-11-05_v01.nc\", variable = \"bed\")\n",
    "\n",
    "# # Double check the crs of BedMachineAntarctica and drainage basin shapefile before clipping\n",
    "# print(f\"BedMachineAntarctica CRS: \", ds.bed.rio.crs)\n",
    "# print(f\"Tot shapefile CRS: \", tot.crs)\n",
    "\n",
    "# ds.rio.set_spatial_dims(x_dim=\"x\", y_dim=\"y\", inplace=True)\n",
    "# ds.rio.write_crs(\"EPSG:3031\", inplace=True)\n",
    "# Bed_tot = ds.rio.clip(tot.geometry, tot.crs)\n",
    "\n",
    "# Bed_tot_masked = Bed_tot.where(Bed_tot['bed'] != -9999.) # Replace -9999. with nan\n",
    "# Bed_tot_masked['bed'].plot()\n",
    "\n",
    "# ## Save a local copy as a raster or netcdf\n",
    "# Bed_tot.bed.rio.to_raster(data_loc+'Tot_BedMachineAntarctica.tif')\n",
    "# # Bed_tot.to_netcdf(data_loc+'Tot_BedMachineAntarctica.nc')"
   ]
  },
  {
   "cell_type": "code",
   "execution_count": 8,
   "id": "fff9b547-4658-4233-bf9b-bdd359bf77df",
   "metadata": {},
   "outputs": [
    {
     "name": "stdout",
     "output_type": "stream",
     "text": [
      "Resolution of bed_tot:  (500.0, -500.0)\n"
     ]
    }
   ],
   "source": [
    "print(f\"Resolution of bed_tot: \", Bed_tot.rio.resolution())"
   ]
  },
  {
   "cell_type": "code",
   "execution_count": 9,
   "id": "1e6a2253-9181-4944-a2c0-a716c2848feb",
   "metadata": {},
   "outputs": [
    {
     "name": "stdout",
     "output_type": "stream",
     "text": [
      "new resolution:  (240.0, -240.0)\n"
     ]
    }
   ],
   "source": [
    "#Resample clipped data to matching resolutions\n",
    "\n",
    "from osgeo import gdal\n",
    "\n",
    "# REFRENCE FILE METHOD: choose highest resolution data product and import resolution\n",
    "#ref = gdal.Open(data_loc+\"/its_live/ANT_G0240_0000.nc\", 'r')\n",
    "#perhaps ATL 14 will provide a better ref resolution. gdal != .nc for this transform\n",
    "\n",
    "a=240    #its-live resolution =240m\n",
    "x_res = a           #refTrans[1] with gdal\n",
    "y_res = -a          #-refTrans[5] with gdal #y values need a \"-\" as they are stored negative\n",
    "\n",
    "inputFile =data_loc+\"Tot_BedMachineAntarctica.tif\"\n",
    "outputFile = data_loc+\"Tot_Resample_BedMachineAntarctica.tif\"\n",
    "\n",
    "#call gdal.Warp\n",
    "kwargs = {\"format\": \"GTiff\", \"xRes\": x_res, \"yRes\": y_res}\n",
    "ds = gdal.Warp(outputFile, inputFile, **kwargs)\n",
    "\n",
    "#test new resolution\n",
    "test=rx.open_rasterio(data_loc+\"Tot_Resample_BedMachineAntarctica.tif\")\n",
    "print(f\"New Resolution: \", test.rio.resolution())\n"
   ]
  }
 ],
 "metadata": {
  "kernelspec": {
   "display_name": "Python 3 (ipykernel)",
   "language": "python",
   "name": "python3"
  },
  "language_info": {
   "codemirror_mode": {
    "name": "ipython",
    "version": 3
   },
   "file_extension": ".py",
   "mimetype": "text/x-python",
   "name": "python",
   "nbconvert_exporter": "python",
   "pygments_lexer": "ipython3",
   "version": "3.9.10"
  }
 },
 "nbformat": 4,
 "nbformat_minor": 5
}
