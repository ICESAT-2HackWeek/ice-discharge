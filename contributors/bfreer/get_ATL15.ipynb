{
 "cells": [
  {
   "cell_type": "code",
   "execution_count": null,
   "id": "3a5c4996-2d4a-48cd-9960-49e4fe898c01",
   "metadata": {},
   "outputs": [],
   "source": [
    "#Imports \n",
    "import icepyx as ipx\n",
    "from earthdata import Auth, DataCollections, DataGranules, Store # Used to ingest data from NSIDC\n",
    "import geopandas as gpd # Used to subset regions using shapefile\n",
    "import rioxarray as rx # Used to read raster data from hdf5 files\n",
    "import numpy as np\n",
    "import matplotlib.pyplot as plt\n",
    "\n",
    "#%matplotlib inline\n",
    "%matplotlib widget "
   ]
  },
  {
   "cell_type": "markdown",
   "id": "4f04be88-9c58-4c6a-bbd1-48344823300a",
   "metadata": {},
   "source": [
    "### Set working directories "
   ]
  },
  {
   "cell_type": "code",
   "execution_count": null,
   "id": "a077e09c-cdeb-474e-90b5-cdb22daac5cb",
   "metadata": {},
   "outputs": [],
   "source": [
    "# Set working directories (local)\n",
    "data_loc = \"/home/jovyan/data/\""
   ]
  },
  {
   "cell_type": "code",
   "execution_count": null,
   "id": "65d6e6d8-0d38-4801-8fae-e822797b6025",
   "metadata": {},
   "outputs": [],
   "source": [
    "# Authenticate Earthdata credentials\n",
    "\n",
    "auth = Auth().login(strategy='netrc')\n",
    "if auth.authenticated is False:\n",
    "    auth = Auth().login(strategy='interactive')"
   ]
  },
  {
   "cell_type": "markdown",
   "id": "99eb36ab-6501-4e2a-817d-89af255f2a34",
   "metadata": {},
   "source": [
    "## PART 1: Download ATL15 data in study area basin "
   ]
  },
  {
   "cell_type": "markdown",
   "id": "0916ab16-8328-4a05-9f33-4a8c90ada7e2",
   "metadata": {},
   "source": [
    "### Step 1: Define all basins "
   ]
  },
  {
   "cell_type": "code",
   "execution_count": null,
   "id": "27bbc204-ac3f-4632-bc33-a27e39046f32",
   "metadata": {},
   "outputs": [],
   "source": [
    "#Read in MEaSUREs ice boundaries \n",
    "bd = gpd.read_file(data_loc+\"/boundaries/IceBoundaries_Antarctica_v02.shp\")"
   ]
  },
  {
   "cell_type": "code",
   "execution_count": null,
   "id": "e193704b-8abc-4ae1-887c-65ea93f4bd14",
   "metadata": {},
   "outputs": [],
   "source": [
    "# Plot shapefile to make sure it as expected\n",
    "bd.plot()\n",
    "\n",
    "# 'Geometry' can beextracted - here, we print out the head of the geometry field\n",
    "print(bd['geometry'].head())"
   ]
  },
  {
   "cell_type": "markdown",
   "id": "47c9c4f1-66ed-40b3-b4c2-0918c73ec42b",
   "metadata": {},
   "source": [
    "### Step 2: Isolate study basin "
   ]
  },
  {
   "cell_type": "code",
   "execution_count": null,
   "id": "785f38c5-d85f-4136-b673-cfb41fa57ae5",
   "metadata": {},
   "outputs": [],
   "source": [
    "#Set to name of basin \n",
    "name = 'Totten'"
   ]
  },
  {
   "cell_type": "code",
   "execution_count": null,
   "id": "13edc086-bfe0-415f-8b12-80e3de4b4a2e",
   "metadata": {},
   "outputs": [],
   "source": [
    "# Isolated only grounded ice (GR) for the Totten basin\n",
    "basin = bd[(bd[\"NAME\"] == name) & (bd[\"TYPE\"] == \"GR\")]\n",
    "\n",
    "# Plot the Totten subset\n",
    "basin.plot()\n",
    "\n",
    "#Get useful info\n",
    "#tot.geometry\n",
    "#tot.crs"
   ]
  },
  {
   "cell_type": "code",
   "execution_count": null,
   "id": "2e6dec04-d397-45de-8b92-e2d35a1c15d5",
   "metadata": {},
   "outputs": [],
   "source": [
    "# Identify the bounding box for the given region: total_bounds = total bounding box of all polygons (if multiple); bounds = bounding box for each polygon (if multiple).\n",
    "# When only one polygon (in this case), .total_bounds, or .bounds are comparable\n",
    "bbox = tot.total_bounds\n",
    "bbox"
   ]
  },
  {
   "cell_type": "markdown",
   "id": "4eed893a-6e5a-4fdd-9964-1b5fdf46310a",
   "metadata": {
    "tags": []
   },
   "source": [
    "### Step 3: Reproject to EPSG 4326 and get basin coordinates"
   ]
  },
  {
   "cell_type": "code",
   "execution_count": null,
   "id": "72673809-851c-46f1-88c1-e50698322915",
   "metadata": {},
   "outputs": [],
   "source": [
    "#Function to reproject GPD polygon (EPSG 4326 needed for icepyx) \n",
    "def reproject(geom, epsg=\"EPSG:4326\"):\n",
    "    return geom.to_crs(epsg)"
   ]
  },
  {
   "cell_type": "code",
   "execution_count": null,
   "id": "1a3a967c-7324-4a19-8c0e-ab94d44d3b7c",
   "metadata": {},
   "outputs": [],
   "source": [
    "#Reproject basin from 3031 to 4326 \n",
    "basin_proj = reproject(basin)\n",
    "basin_proj.plot()"
   ]
  },
  {
   "cell_type": "markdown",
   "id": "4218375c-f2ca-4a44-b395-c09a62fb0bfb",
   "metadata": {},
   "source": [
    "### Step 4: Query ATL15 data in Study Basin\n",
    "\n",
    "#### Option A) Using coordinates of Polygon "
   ]
  },
  {
   "cell_type": "code",
   "execution_count": null,
   "id": "616418fd-15ff-440b-85e4-e2a3a375f796",
   "metadata": {},
   "outputs": [],
   "source": [
    "#Get basin coordinates \n",
    "\n",
    "#Function to extract coordinates from GPD polyon \n",
    "def get_coords(geom):\n",
    "    coords = list(geom.exterior.coords)\n",
    "    return list(coords)\n",
    "\n",
    "#extract coordinates of basin polygon \n",
    "coords = list(basin_proj.geometry.apply(get_coords))[0]"
   ]
  },
  {
   "cell_type": "code",
   "execution_count": null,
   "id": "1b5dce13-ee50-449e-9514-c561d2d32eef",
   "metadata": {},
   "outputs": [],
   "source": [
    "#Set inputs to Icepyx download query \n",
    "short_name = 'ATL15'\n",
    "spatial_extent = coords #coordinates from basin (extracted in step 3)\n",
    "date_range = ['2019-02-20','2022-02-28']\n",
    "\n",
    "region_a = ipx.Query(short_name, spatial_extent, date_range)\n",
    "#region_a.visualize_spatial_extent()"
   ]
  },
  {
   "cell_type": "markdown",
   "id": "5354d69b-b270-44ce-aace-7581a39c7f65",
   "metadata": {},
   "source": [
    "#### Option B) Using shapefile"
   ]
  },
  {
   "cell_type": "code",
   "execution_count": null,
   "id": "2e7d2fbd-118c-4342-9bdd-a85e23f2cb99",
   "metadata": {},
   "outputs": [],
   "source": [
    "#Esport geopandas polygon of basin to shapefile \n",
    "shp_out = data_loc + f\"boundaries/{name}_boundary_4326.shp\"\n",
    "basin_proj.to_file(shp_out)"
   ]
  },
  {
   "cell_type": "code",
   "execution_count": null,
   "id": "9f2d6756-f88b-4848-acde-2cd54c06b851",
   "metadata": {},
   "outputs": [],
   "source": [
    "#Set inputs to Icepyx download query \n",
    "short_name = 'ATL15'\n",
    "spatial_extent = shp_out #set file path to shapefile (in epsg:4326)\n",
    "date_range = ['2019-02-20','2022-02-28']\n",
    "\n",
    "region_a = ipx.Query(short_name, spatial_extent, date_range)\n",
    "#region_a.visualize_spatial_extent()"
   ]
  },
  {
   "cell_type": "code",
   "execution_count": null,
   "id": "41623624-6e5b-412d-9cdf-f4e669ec2efb",
   "metadata": {},
   "outputs": [],
   "source": [
    "#Print other info\n",
    "print(region_a.product)\n",
    "print(region_a.dates)\n",
    "print(region_a.start_time)\n",
    "print(region_a.end_time)\n",
    "print(region_a.cycles)\n",
    "print(region_a.tracks)\n",
    "print(region_a.product_version)\n",
    "#region_a.visualize_spatial_extent()"
   ]
  },
  {
   "cell_type": "code",
   "execution_count": null,
   "id": "6be8f950-af54-44d3-b929-eb56e09c1531",
   "metadata": {},
   "outputs": [],
   "source": [
    "region_a.product_summary_info()\n",
    "print(region_a.latest_version())"
   ]
  },
  {
   "cell_type": "markdown",
   "id": "3425a95b-d0bc-4cf6-91f6-8497a4f53a79",
   "metadata": {},
   "source": [
    "### Step 5: Order and Download ATL15 Data"
   ]
  },
  {
   "cell_type": "code",
   "execution_count": null,
   "id": "b4f7ad12-0d61-485d-8c52-7957b701bf2e",
   "metadata": {},
   "outputs": [],
   "source": [
    "#Authenticate EarthData Login\n",
    "earthdata_uid = 'freer_bi.97'\n",
    "email = 'bryony.freer@gmail.com'\n",
    "region_a.earthdata_login(earthdata_uid, email)"
   ]
  },
  {
   "cell_type": "code",
   "execution_count": null,
   "id": "5a3c9a90-c0d7-402a-a095-b7196ab39079",
   "metadata": {},
   "outputs": [],
   "source": [
    "#search for available granules and provide basic summary info about them\n",
    "region_a.avail_granules()"
   ]
  },
  {
   "cell_type": "code",
   "execution_count": null,
   "id": "cb4df276-93aa-4da4-8afc-560ba05d8aab",
   "metadata": {},
   "outputs": [],
   "source": [
    "#order granules \n",
    "region_a.order_granules()"
   ]
  },
  {
   "cell_type": "code",
   "execution_count": null,
   "id": "d3f4b522-f880-4910-85e1-80e6c2b05ba8",
   "metadata": {},
   "outputs": [],
   "source": [
    "#Download \n",
    "path = data_loc + f'/ATL15/{basin}'\n",
    "#region_a.download_granules(path) "
   ]
  },
  {
   "cell_type": "markdown",
   "id": "2a4653b2-a771-4e18-8e3d-dd38cce3cb2a",
   "metadata": {},
   "source": [
    "## PART 2: Plot ATL15 Data \n",
    "\n",
    "*Currently work in progress (as of 5pm UTC, 23/03)*"
   ]
  },
  {
   "cell_type": "code",
   "execution_count": null,
   "id": "b7d1fdf2-7914-45a5-844e-585dd5a5c29b",
   "metadata": {},
   "outputs": [],
   "source": [
    "#opens raster dataset\n",
    "ds=rx.open_rasterio(f'{path}/ATL15_AA_0311_10km_001_01.nc', group='delta_h', masked=True)\n",
    "ds"
   ]
  },
  {
   "cell_type": "markdown",
   "id": "a6a743ae-bddc-4cf4-9701-b572a1d68c1f",
   "metadata": {},
   "source": [
    "The datasets here represent surface-height differences relative to 2020.0.  For a quick view of what is going on, we can make a map of the mean height change rate from the start of the mission to the present:"
   ]
  },
  {
   "cell_type": "code",
   "execution_count": null,
   "id": "b0f595fd-86e1-4682-bd3a-0a2917e38d03",
   "metadata": {
    "tags": []
   },
   "outputs": [],
   "source": [
    "# note that time is in days after Jan 1 2018\n",
    "dhdt = (ds['delta_h'][-1,:,:]-ds['delta_h'][0,:,:])/(ds['time'][-1]-ds['time'][0])*365.25 #convert the time into units of years (so can get height change in m/yr)\n",
    "#caluclate extent of dataset for matplotlib\n",
    "extent=np.array([np.min(ds['x'])-500, np.max(ds['x'])+500, np.min(ds['y'])-500, np.max(ds['y'])+500])"
   ]
  },
  {
   "cell_type": "code",
   "execution_count": null,
   "id": "0007eee1-98f9-4df2-ad39-5cfbeaf29883",
   "metadata": {},
   "outputs": [],
   "source": [
    "#maps height change from april 2019 to end of 2020 \n",
    "plt.figure(); \n",
    "hax=plt.gca()\n",
    "h_im=hax.imshow(dhdt, cmap='Spectral',  extent=extent)\n",
    "hax.set_aspect(1)\n",
    "#hax.set_ylim([-0.8e6, -0.2e6])\n",
    "hax.set_xlabel('polar-stereographic x')\n",
    "hax.set_ylabel('polar-stereographic y')\n",
    "plt.colorbar(h_im, label='height-change rate, m/yr');"
   ]
  }
 ],
 "metadata": {
  "kernelspec": {
   "display_name": "Python 3 (ipykernel)",
   "language": "python",
   "name": "python3"
  },
  "language_info": {
   "codemirror_mode": {
    "name": "ipython",
    "version": 3
   },
   "file_extension": ".py",
   "mimetype": "text/x-python",
   "name": "python",
   "nbconvert_exporter": "python",
   "pygments_lexer": "ipython3",
   "version": "3.9.10"
  }
 },
 "nbformat": 4,
 "nbformat_minor": 5
}
