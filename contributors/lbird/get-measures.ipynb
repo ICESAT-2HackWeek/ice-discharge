{
 "cells": [
  {
   "cell_type": "code",
   "execution_count": 3,
   "id": "566de802-9dbe-4813-839b-1ae2f584130c",
   "metadata": {},
   "outputs": [],
   "source": [
    "## Download BedMachine data directly from  NSIDC\n",
    "\n",
    "from earthdata import Auth, DataCollections, DataGranules, Store"
   ]
  },
  {
   "cell_type": "code",
   "execution_count": 29,
   "id": "e4546a3b-16a3-4fda-a2f3-2696d584c480",
   "metadata": {},
   "outputs": [],
   "source": [
    "# Set working directories (local)\n",
    "\n",
    "data_loc = \"/home/jovyan/data/\""
   ]
  },
  {
   "cell_type": "code",
   "execution_count": 10,
   "id": "020efc7c-d5a6-4deb-8d7b-99e84b332883",
   "metadata": {},
   "outputs": [
    {
     "name": "stdout",
     "output_type": "stream",
     "text": [
      "You're now authenticated with NASA Earthdata Login\n"
     ]
    }
   ],
   "source": [
    "# Authenticate Earthdata credentials\n",
    "\n",
    "auth = Auth().login(strategy='netrc')\n",
    "if auth.authenticated is False:\n",
    "    auth = Auth().login(strategy='interactive')"
   ]
  },
  {
   "cell_type": "code",
   "execution_count": 19,
   "id": "ed493e68-7e7f-471f-a52d-b7551c403bb6",
   "metadata": {},
   "outputs": [
    {
     "name": "stdout",
     "output_type": "stream",
     "text": [
      "Collections found: 6\n"
     ]
    }
   ],
   "source": [
    "# Identify data collections available based on keyword (here, use \"bed topography\" to identify collections with bed topography (e.g., BedMachine)\n",
    "Query = DataCollections().keyword('bed topography').provider(\"NSIDC_ECS\")\n",
    "\n",
    "print(f'Collections found: {Query.hits()}')"
   ]
  },
  {
   "cell_type": "code",
   "execution_count": 20,
   "id": "4f4d42b9-b749-4711-9fcf-908a4f9eabaa",
   "metadata": {},
   "outputs": [
    {
     "name": "stdout",
     "output_type": "stream",
     "text": [
      "[{\n",
      "  \"meta\": {\n",
      "    \"concept-id\": \"C2050907241-NSIDC_ECS\",\n",
      "    \"granule-count\": 1,\n",
      "    \"provider-id\": \"NSIDC_ECS\"\n",
      "  },\n",
      "  \"umm\": {\n",
      "    \"ShortName\": \"IDBMG4\",\n",
      "    \"Abstract\": \"This data set contains a bed topography/bathymetry map of Greenland based on mass conservation, multi-beam data, and other techniques. It also includes surface elevation and ice thickness data, as well as an ice/ocean/land mask.\"\n",
      "  }\n",
      "}, {\n",
      "  \"meta\": {\n",
      "    \"concept-id\": \"C1946898764-NSIDC_ECS\",\n",
      "    \"granule-count\": 1,\n",
      "    \"provider-id\": \"NSIDC_ECS\"\n",
      "  },\n",
      "  \"umm\": {\n",
      "    \"ShortName\": \"NSIDC-0756\",\n",
      "    \"Abstract\": \"This data set, part of the NASA Making Earth System Data Records for Use in Research Environments (MEaSUREs) program, contains a bed topography/bathymetry map of Antarctica based on mass conservation, streamline diffusion, and other methods. The data set also includes ice thickness, surface elevation, an ice/ocean/land mask, ice thickness estimation errors, and a map showing where each method was utilized.\"\n",
      "  }\n",
      "}, {\n",
      "  \"meta\": {\n",
      "    \"concept-id\": \"C1664160168-NSIDC_ECS\",\n",
      "    \"granule-count\": 1,\n",
      "    \"provider-id\": \"NSIDC_ECS\"\n",
      "  },\n",
      "  \"umm\": {\n",
      "    \"ShortName\": \"NSIDC-0756\",\n",
      "    \"Abstract\": \"This data set, part of the NASA Making Earth System Data Records for Use in Research Environments (MEaSUREs) program, contains a bed topography/bathymetry map of Antarctica based on mass conservation, streamline diffusion, and other methods. The data set also includes ice thickness, surface elevation, an ice/ocean/land mask, ice thickness estimation errors, and a map showing where each method was utilized.\"\n",
      "  }\n",
      "}, {\n",
      "  \"meta\": {\n",
      "    \"concept-id\": \"C1586132466-NSIDC_ECS\",\n",
      "    \"granule-count\": 5,\n",
      "    \"provider-id\": \"NSIDC_ECS\"\n",
      "  },\n",
      "  \"umm\": {\n",
      "    \"ShortName\": \"IRTIT3\",\n",
      "    \"Abstract\": \"This data set contains Level-3 tomographic ice thickness measurements and ice thickness errors over areas of Greenland and Antarctica. Two of the data files additionally provide bed elevation measurements. The data were derived from measurements taken by the Center for Remote Sensing of Ice Sheets (CReSIS) Multichannel Coherent Radar Depth Sounder (MCoRDS) instrument and were collected as part of NASA Operation IceBridge funded campaigns.\"\n",
      "  }\n",
      "}, {\n",
      "  \"meta\": {\n",
      "    \"concept-id\": \"C1000001120-NSIDC_ECS\",\n",
      "    \"granule-count\": 617,\n",
      "    \"provider-id\": \"NSIDC_ECS\"\n",
      "  },\n",
      "  \"umm\": {\n",
      "    \"ShortName\": \"IR2HI2\",\n",
      "    \"Abstract\": \"This data set contains ice thickness, surface and bed elevation, and echo strength measurements taken over Antarctica using the Hi-Capability Airborne Radar Sounder (HiCARS) instrument. The data were collected by scientists working on the Investigating the Cryospheric Evolution of the Central Antarctic Plate (ICECAP) project, which was funded by the National Science Foundation (NSF) and the Natural Environment Research Council (NERC) with additional support from NASA Operation IceBridge.\"\n",
      "  }\n",
      "}, {\n",
      "  \"meta\": {\n",
      "    \"concept-id\": \"C1000001100-NSIDC_ECS\",\n",
      "    \"granule-count\": 243,\n",
      "    \"provider-id\": \"NSIDC_ECS\"\n",
      "  },\n",
      "  \"umm\": {\n",
      "    \"ShortName\": \"IR1HI2\",\n",
      "    \"Abstract\": \"This data set contains ice thickness, surface and bed elevation, and echo strength measurements taken over Antarctica using the Hi-Capability Airborne Radar Sounder (HiCARS) instrument. The data were collected by scientists working on the Investigating the Cryospheric Evolution of the Central Antarctic Plate (ICECAP) project, which is funded by the National Science Foundation (NSF) and the Natural Environment Research Council (NERC) with additional support from NASA Operation IceBridge.\"\n",
      "  }\n",
      "}]\n"
     ]
    }
   ],
   "source": [
    "# Review the shortName and Abstract for all collections in order to identify the best dataset to use.\n",
    "collections = Query.fields(['ShortName','Abstract']).get()\n",
    "print(collections)"
   ]
  },
  {
   "cell_type": "code",
   "execution_count": 27,
   "id": "95db76d9-22dd-4e0e-8142-f387c0c2aed5",
   "metadata": {},
   "outputs": [
    {
     "name": "stdout",
     "output_type": "stream",
     "text": [
      "Granules found: 1\n"
     ]
    }
   ],
   "source": [
    "# For MEaSUREs BedMachine data, concept-id: C1664160168-NSIDC_ECS\n",
    "bedmachine = 'C1664160168-NSIDC_ECS'\n",
    "\n",
    "# TODO: Define a bounding box from a IMBIE / MEaSUREs boundary\n",
    "# Query = DataGranules().concept_id(bedmachine).bounding_box(-134.7,58.9,-133.9,59.2)\n",
    "\n",
    "# For testing, download without a bounding box\n",
    "Query = DataGranules().concept_id(bedmachine)\n",
    "\n",
    "print(f'Granules found: {Query.hits()}')"
   ]
  },
  {
   "cell_type": "code",
   "execution_count": 28,
   "id": "e0893c53-8bb7-402b-9698-d6abc7bd7e18",
   "metadata": {
    "tags": [
     "hide-output"
    ]
   },
   "outputs": [
    {
     "name": "stdout",
     "output_type": "stream",
     "text": [
      "[Collection: {'EntryTitle': 'MEaSUREs BedMachine Antarctica V001'}\n",
      "Spatial coverage: {'HorizontalSpatialDomain': {'Geometry': {'BoundingRectangles': [{'WestBoundingCoordinate': -180.0, 'EastBoundingCoordinate': 180.0, 'NorthBoundingCoordinate': -53.0, 'SouthBoundingCoordinate': -90.0}]}}}\n",
      "Temporal coverage: {'RangeDateTime': {'BeginningDateTime': '1970-01-01T00:00:01.000Z', 'EndingDateTime': '2019-10-01T23:59:59.000Z'}}\n",
      "Size(MB): 795.317\n",
      "Data: ['https://n5eil01u.ecs.nsidc.org/DP4/MEASURES/NSIDC-0756.001/1970.01.01/BedMachineAntarctica_2019-11-05_v01.nc']]\n"
     ]
    }
   ],
   "source": [
    "# Get the relevant granules for the collectin\n",
    "granules = Query.get()\n",
    "print(granules)"
   ]
  },
  {
   "cell_type": "code",
   "execution_count": 26,
   "id": "07c383db-1d0b-4f8f-be54-6c680e1d5639",
   "metadata": {},
   "outputs": [
    {
     "name": "stdout",
     "output_type": "stream",
     "text": [
      " Getting 1 granules, approx download size: 0.78 GB\n"
     ]
    },
    {
     "data": {
      "application/vnd.jupyter.widget-view+json": {
       "model_id": "47ad97cceed04aa7b6f0c1ed360675aa",
       "version_major": 2,
       "version_minor": 0
      },
      "text/plain": [
       "SUBMITTING | :   0%|          | 0/1 [00:00<?, ?it/s]"
      ]
     },
     "metadata": {},
     "output_type": "display_data"
    },
    {
     "data": {
      "application/vnd.jupyter.widget-view+json": {
       "model_id": "1c672425428a4c75ba8dda961f3eba79",
       "version_major": 2,
       "version_minor": 0
      },
      "text/plain": [
       "PROCESSING | :   0%|          | 0/1 [00:00<?, ?it/s]"
      ]
     },
     "metadata": {},
     "output_type": "display_data"
    },
    {
     "data": {
      "application/vnd.jupyter.widget-view+json": {
       "model_id": "5121fad54c0642dca143c6e6125a03e2",
       "version_major": 2,
       "version_minor": 0
      },
      "text/plain": [
       "COLLECTING | :   0%|          | 0/1 [00:00<?, ?it/s]"
      ]
     },
     "metadata": {},
     "output_type": "display_data"
    },
    {
     "name": "stdout",
     "output_type": "stream",
     "text": [
      "CPU times: user 1.73 s, sys: 1.84 s, total: 3.57 s\n",
      "Wall time: 57.3 s\n"
     ]
    }
   ],
   "source": [
    "# Download the data! \n",
    "\n",
    "# How long does this take?\n",
    "%%time\n",
    "\n",
    "# Access the data from on-prem at NSIDC. Store this at \"data_loc\" locally.\n",
    "access = Store(auth)\n",
    "files = access.get(granules, local_path = data_loc)"
   ]
  },
  {
   "cell_type": "code",
   "execution_count": null,
   "id": "06981da0-bbc4-4e03-b5ed-5e489180d158",
   "metadata": {},
   "outputs": [],
   "source": []
  }
 ],
 "metadata": {
  "kernelspec": {
   "display_name": "Python 3 (ipykernel)",
   "language": "python",
   "name": "python3"
  },
  "language_info": {
   "codemirror_mode": {
    "name": "ipython",
    "version": 3
   },
   "file_extension": ".py",
   "mimetype": "text/x-python",
   "name": "python",
   "nbconvert_exporter": "python",
   "pygments_lexer": "ipython3",
   "version": "3.9.10"
  }
 },
 "nbformat": 4,
 "nbformat_minor": 5
}
