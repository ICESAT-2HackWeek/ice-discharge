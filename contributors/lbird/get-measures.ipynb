{
 "cells": [
  {
   "cell_type": "markdown",
   "id": "3069342b-b5eb-4732-80e8-6e9393434ec5",
   "metadata": {},
   "source": [
    "# Download required data directly from  NSIDC"
   ]
  },
  {
   "cell_type": "markdown",
   "id": "95d2dea6-06c8-4d1b-a484-1d55b9103ac5",
   "metadata": {},
   "source": [
    "## Set up local / personal environment"
   ]
  },
  {
   "cell_type": "code",
   "execution_count": null,
   "id": "28d2c85e-ae33-4a60-b748-2fc33014a762",
   "metadata": {},
   "outputs": [],
   "source": [
    "# Import dependancies\n",
    "\n",
    "from earthdata import Auth, DataCollections, DataGranules, Store # Used to ingest data from NSIDC\n",
    "import geopandas as gpd # Used to subset regions using shapefile\n",
    "import rioxarray as rx # Used to read raster data from hdf5 files\n"
   ]
  },
  {
   "cell_type": "code",
   "execution_count": null,
   "id": "e4546a3b-16a3-4fda-a2f3-2696d584c480",
   "metadata": {},
   "outputs": [],
   "source": [
    "# Set working directories (local)\n",
    "\n",
    "data_loc = \"/home/jovyan/data/\""
   ]
  },
  {
   "cell_type": "code",
   "execution_count": null,
   "id": "020efc7c-d5a6-4deb-8d7b-99e84b332883",
   "metadata": {},
   "outputs": [],
   "source": [
    "# Authenticate Earthdata credentials\n",
    "\n",
    "auth = Auth().login(strategy='netrc')\n",
    "if auth.authenticated is False:\n",
    "    auth = Auth().login(strategy='interactive')"
   ]
  },
  {
   "cell_type": "markdown",
   "id": "60201f5b-73eb-49bc-8bfd-5e01821c3b75",
   "metadata": {},
   "source": [
    "# Step 3 - Import MEaSUREs BedMachine Data from NSIDC"
   ]
  },
  {
   "cell_type": "code",
   "execution_count": null,
   "id": "ed493e68-7e7f-471f-a52d-b7551c403bb6",
   "metadata": {},
   "outputs": [],
   "source": [
    "# Identify data collections available based on keyword (here, use \"bed topography\" to identify collections with bed topography (e.g., BedMachine)\n",
    "Query = DataCollections().keyword('bed topography').provider(\"NSIDC_ECS\")\n",
    "\n",
    "print(f'Collections found: {Query.hits()}')"
   ]
  },
  {
   "cell_type": "code",
   "execution_count": null,
   "id": "4f4d42b9-b749-4711-9fcf-908a4f9eabaa",
   "metadata": {},
   "outputs": [],
   "source": [
    "# Review the shortName and Abstract for all collections in order to identify the best dataset to use.\n",
    "collections = Query.fields(['ShortName','Abstract']).get()\n",
    "print(collections)"
   ]
  },
  {
   "cell_type": "code",
   "execution_count": null,
   "id": "95db76d9-22dd-4e0e-8142-f387c0c2aed5",
   "metadata": {},
   "outputs": [],
   "source": [
    "# For MEaSUREs BedMachine data, concept-id: C1664160168-NSIDC_ECS\n",
    "bedmachine = 'C1664160168-NSIDC_ECS'\n",
    "\n",
    "# TODO: Define a bounding box from a IMBIE / MEaSUREs boundary\n",
    "# Query = DataGranules().concept_id(bedmachine).bounding_box(-134.7,58.9,-133.9,59.2)\n",
    "\n",
    "# For testing, download without a bounding box\n",
    "Query = DataGranules().concept_id(bedmachine)\n",
    "\n",
    "print(f'Granules found: {Query.hits()}')"
   ]
  },
  {
   "cell_type": "code",
   "execution_count": null,
   "id": "e0893c53-8bb7-402b-9698-d6abc7bd7e18",
   "metadata": {
    "tags": [
     "hide-output"
    ]
   },
   "outputs": [],
   "source": [
    "# Get the relevant granules for the collectin\n",
    "granules = Query.get()\n",
    "print(granules)"
   ]
  },
  {
   "cell_type": "code",
   "execution_count": null,
   "id": "07c383db-1d0b-4f8f-be54-6c680e1d5639",
   "metadata": {},
   "outputs": [],
   "source": [
    "# Download the data! \n",
    "\n",
    "# How long does this take?\n",
    "#%%time\n",
    "\n",
    "# Access the data from on-prem at NSIDC. Store this at \"data_loc\" locally.\n",
    "access = Store(auth)\n",
    "files = access.get(granules, local_path = data_loc)"
   ]
  },
  {
   "cell_type": "markdown",
   "id": "bbf91215-7507-40d0-aab6-017537a3dcbb",
   "metadata": {},
   "source": [
    "# Step 1 - Import MEaSUREs Boundaries from NSIDC"
   ]
  },
  {
   "cell_type": "code",
   "execution_count": null,
   "id": "bd2d5b1a-a137-4379-bed4-c94f7732abf5",
   "metadata": {},
   "outputs": [],
   "source": [
    "# Identify data collections available based on keyword (here, use \"bed topography\" to identify collections with bed topography (e.g., BedMachine)\n",
    "Query = DataCollections().keyword('boundaries').provider(\"NSIDC_ECS\")\n",
    "\n",
    "print(f'Collections found: {Query.hits()}')"
   ]
  },
  {
   "cell_type": "code",
   "execution_count": null,
   "id": "e5e1daac-e0bd-4f4a-b1ba-1a6345992056",
   "metadata": {},
   "outputs": [],
   "source": [
    "# Review the shortName and Abstract for all collections in order to identify the best dataset to use.\n",
    "collections = Query.fields(['ShortName','Abstract']).get()\n",
    "print(collections)"
   ]
  },
  {
   "cell_type": "code",
   "execution_count": null,
   "id": "56548f00-27c2-4bea-b08a-180ff44dc01e",
   "metadata": {},
   "outputs": [],
   "source": [
    "# For MEaSUREs boundaries, concept-id: C1454773262-NSIDC_ECS\n",
    "boundaries = 'C1454773262-NSIDC_ECS'\n",
    "\n",
    "# TODO: Define a bounding box from a IMBIE / MEaSUREs boundary\n",
    "# Query = DataGranules().concept_id(bedmachine).bounding_box(-134.7,58.9,-133.9,59.2)\n",
    "\n",
    "# For testing, download without a bounding box\n",
    "Query = DataGranules().concept_id(boundaries)\n",
    "\n",
    "print(f'Granules found: {Query.hits()}')"
   ]
  },
  {
   "cell_type": "code",
   "execution_count": null,
   "id": "a1603016-4a6b-45fc-b720-2f3efee1aa81",
   "metadata": {},
   "outputs": [],
   "source": [
    "# Get the relevant granules for the collectin\n",
    "granules = Query.get()\n",
    "print(granules)\n",
    "\n",
    "# NOTE: The following datasets are contained here:\n",
    "# - \"Mask_Antarctica_v02\" is the 1st element\n",
    "# - \"Basins_IMBIE_Antarctica_v02\" is the 2nd element\n",
    "# - \"IceBoundaries_Antarctica_v02\" is the 3rd element\n",
    "# - \"GroundingLine_Antarctica_v02\" is the 4th element\n",
    "# - \"Basins_Antarctica_v02\" is the 5th element\n",
    "# - \"IceShelf_Antarctica_v02\" is the 6th element\n",
    "# - \"Coastline_Antarctica_v02\" is the 7th element"
   ]
  },
  {
   "cell_type": "code",
   "execution_count": null,
   "id": "ed76ece4-a213-434a-b141-bb9fd3fba2e1",
   "metadata": {},
   "outputs": [],
   "source": [
    "## NOTE - Thi Cell does not currently behave as expected. This returns the first file in each granule.\n",
    "## Work-around provided in following cell, using wget to download each file from data_links()\n",
    "\n",
    "# TODO: How do I download only one granuale from the list?\n",
    "# TODO: Confirm how to download multiple files within a given granule. The below code only returns the first element/file from each granule. It does not return all files/elements associated with the shapefile.\n",
    "\n",
    "# Access the data from on-prem at NSIDC. Store this at \"data_loc\" locally.\n",
    "# access = Store(auth)\n",
    "# files = access.get(granules, local_path = data_loc+\"boundaries/\")"
   ]
  },
  {
   "cell_type": "code",
   "execution_count": null,
   "id": "8d5fdd5e-8bc7-4426-bcc6-1fbed5d94b9d",
   "metadata": {},
   "outputs": [],
   "source": [
    "# Create a list of links to individual data files from each granule\n",
    "data_links = [granule.data_links() for granule in granules]\n",
    "\n",
    "# Loop over the list of data links for each granule - for each file, wget the file.\n",
    "# TODO: How to feed \"data_loc\" (or other) directly into the wget command rather than hardcoding this directory here?\n",
    "for i in data_links:\n",
    "    tmp = i\n",
    "    for j in tmp:\n",
    "        #print(j)\n",
    "        ! wget -nc {j} -P /home/jovyan/data/boundaries"
   ]
  },
  {
   "cell_type": "markdown",
   "id": "0b316b2d-353e-431b-97e2-b7ed8a6f3b47",
   "metadata": {},
   "source": [
    "# Step 2 - Subset the Antarctica Ice Boundaries for a given region [Totten Basin]"
   ]
  },
  {
   "cell_type": "code",
   "execution_count": null,
   "id": "27bbc204-ac3f-4632-bc33-a27e39046f32",
   "metadata": {},
   "outputs": [],
   "source": [
    "bd = gpd.read_file(data_loc+\"/boundaries/IceBoundaries_Antarctica_v02.shp\")"
   ]
  },
  {
   "cell_type": "code",
   "execution_count": null,
   "id": "e193704b-8abc-4ae1-887c-65ea93f4bd14",
   "metadata": {},
   "outputs": [],
   "source": [
    "# Plot shapefile to make sure it as expected\n",
    "bd.plot()\n",
    "\n",
    "# 'Geometry' can be extracted - here, we print out the head of the geometry field\n",
    "print(bd['geometry'].head())"
   ]
  },
  {
   "cell_type": "code",
   "execution_count": null,
   "id": "13edc086-bfe0-415f-8b12-80e3de4b4a2e",
   "metadata": {},
   "outputs": [],
   "source": [
    "# Isolated only grounded ice (GR) for the Totten basin\n",
    "tot = bd[(bd[\"NAME\"] == \"Totten\") & (bd[\"TYPE\"] == \"GR\")]\n",
    "\n",
    "# Plot the Totten subset\n",
    "tot.plot()\n",
    "\n",
    "# View tot to make sure it is as expected\n",
    "tot"
   ]
  },
  {
   "cell_type": "code",
   "execution_count": null,
   "id": "2e6dec04-d397-45de-8b92-e2d35a1c15d5",
   "metadata": {},
   "outputs": [],
   "source": [
    "# Identify the bounding box for the given region: total_bounds = total bounding box of all polygons (if multiple); bounds = bounding box for each polygon (if multiple).\n",
    "# When only one polygon (in this case), .total_bounds, or .bounds are comparable\n",
    "bbox = tot.total_bounds\n",
    "bbox"
   ]
  },
  {
   "cell_type": "markdown",
   "id": "ccc6965c-ffba-4f12-81fe-61f6cc6ea227",
   "metadata": {},
   "source": [
    "# Step 4 - Read-in raster files and subset to given region"
   ]
  },
  {
   "cell_type": "code",
   "execution_count": null,
   "id": "39e419b2-b6a2-4a80-91fc-ca9800f29fea",
   "metadata": {},
   "outputs": [],
   "source": [
    "ds=rx.open_rasterio(data_loc+\"BedMachineAntarctica_2019-11-05_v01.nc\", variable = \"bed\")\n",
    "ds"
   ]
  },
  {
   "cell_type": "code",
   "execution_count": null,
   "id": "47c2927b-5adc-453c-a96c-d59e39c32c42",
   "metadata": {},
   "outputs": [],
   "source": [
    "tot.total_bounds"
   ]
  },
  {
   "cell_type": "code",
   "execution_count": null,
   "id": "fe74a33f-153a-4190-8f1d-b8793c0a085a",
   "metadata": {},
   "outputs": [],
   "source": []
  }
 ],
 "metadata": {
  "kernelspec": {
   "display_name": "Python 3 (ipykernel)",
   "language": "python",
   "name": "python3"
  },
  "language_info": {
   "codemirror_mode": {
    "name": "ipython",
    "version": 3
   },
   "file_extension": ".py",
   "mimetype": "text/x-python",
   "name": "python",
   "nbconvert_exporter": "python",
   "pygments_lexer": "ipython3",
   "version": "3.9.10"
  }
 },
 "nbformat": 4,
 "nbformat_minor": 5
}
