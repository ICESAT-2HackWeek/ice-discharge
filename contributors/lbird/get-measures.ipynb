{
 "cells": [
  {
   "cell_type": "markdown",
   "id": "3069342b-b5eb-4732-80e8-6e9393434ec5",
   "metadata": {},
   "source": [
    "# Download required data directly from  NSIDC"
   ]
  },
  {
   "cell_type": "markdown",
   "id": "95d2dea6-06c8-4d1b-a484-1d55b9103ac5",
   "metadata": {},
   "source": [
    "## Set up local / personal environment"
   ]
  },
  {
   "cell_type": "code",
   "execution_count": 55,
   "id": "28d2c85e-ae33-4a60-b748-2fc33014a762",
   "metadata": {},
   "outputs": [],
   "source": [
    "# Import dependancies\n",
    "\n",
    "from earthdata import Auth, DataCollections, DataGranules, Store # Used to ingest data from NSIDC\n",
    "import geopandas as gpd # Used to subset regions using shapefile\n",
    "import rioxarray as rx # Used to read raster data from hdf5 files\n"
   ]
  },
  {
   "cell_type": "code",
   "execution_count": 4,
   "id": "e4546a3b-16a3-4fda-a2f3-2696d584c480",
   "metadata": {},
   "outputs": [],
   "source": [
    "# Set working directories (local)\n",
    "\n",
    "data_loc = \"/home/jovyan/data/\""
   ]
  },
  {
   "cell_type": "code",
   "execution_count": 5,
   "id": "020efc7c-d5a6-4deb-8d7b-99e84b332883",
   "metadata": {},
   "outputs": [
    {
     "name": "stdout",
     "output_type": "stream",
     "text": [
      "You're now authenticated with NASA Earthdata Login\n"
     ]
    }
   ],
   "source": [
    "# Authenticate Earthdata credentials\n",
    "\n",
    "auth = Auth().login(strategy='netrc')\n",
    "if auth.authenticated is False:\n",
    "    auth = Auth().login(strategy='interactive')"
   ]
  },
  {
   "cell_type": "markdown",
   "id": "60201f5b-73eb-49bc-8bfd-5e01821c3b75",
   "metadata": {},
   "source": [
    "# Step 3 - Import MEaSUREs BedMachine Data from NSIDC"
   ]
  },
  {
   "cell_type": "code",
   "execution_count": null,
   "id": "ed493e68-7e7f-471f-a52d-b7551c403bb6",
   "metadata": {},
   "outputs": [],
   "source": [
    "# Identify data collections available based on keyword (here, use \"bed topography\" to identify collections with bed topography (e.g., BedMachine)\n",
    "Query = DataCollections().keyword('bed topography').provider(\"NSIDC_ECS\")\n",
    "\n",
    "print(f'Collections found: {Query.hits()}')"
   ]
  },
  {
   "cell_type": "code",
   "execution_count": null,
   "id": "4f4d42b9-b749-4711-9fcf-908a4f9eabaa",
   "metadata": {},
   "outputs": [],
   "source": [
    "# Review the shortName and Abstract for all collections in order to identify the best dataset to use.\n",
    "collections = Query.fields(['ShortName','Abstract']).get()\n",
    "print(collections)"
   ]
  },
  {
   "cell_type": "code",
   "execution_count": 48,
   "id": "95db76d9-22dd-4e0e-8142-f387c0c2aed5",
   "metadata": {},
   "outputs": [
    {
     "ename": "TypeError",
     "evalue": "bounding_box() missing 3 required positional arguments: 'lower_left_lat', 'upper_right_lon', and 'upper_right_lat'",
     "output_type": "error",
     "traceback": [
      "\u001b[0;31m---------------------------------------------------------------------------\u001b[0m",
      "\u001b[0;31mTypeError\u001b[0m                                 Traceback (most recent call last)",
      "Input \u001b[0;32mIn [51]\u001b[0m, in \u001b[0;36m<cell line: 5>\u001b[0;34m()\u001b[0m\n\u001b[1;32m      2\u001b[0m bedmachine \u001b[38;5;241m=\u001b[39m \u001b[38;5;124m'\u001b[39m\u001b[38;5;124mC1664160168-NSIDC_ECS\u001b[39m\u001b[38;5;124m'\u001b[39m\n\u001b[1;32m      4\u001b[0m \u001b[38;5;66;03m# TODO: Define a bounding box from a IMBIE / MEaSUREs boundary\u001b[39;00m\n\u001b[0;32m----> 5\u001b[0m Query \u001b[38;5;241m=\u001b[39m \u001b[43mDataGranules\u001b[49m\u001b[43m(\u001b[49m\u001b[43m)\u001b[49m\u001b[38;5;241;43m.\u001b[39;49m\u001b[43mconcept_id\u001b[49m\u001b[43m(\u001b[49m\u001b[43mbedmachine\u001b[49m\u001b[43m)\u001b[49m\u001b[38;5;241;43m.\u001b[39;49m\u001b[43mbounding_box\u001b[49m\u001b[43m(\u001b[49m\u001b[43mbbox\u001b[49m\u001b[38;5;241;43m.\u001b[39;49m\u001b[43mflatten\u001b[49m\u001b[43m(\u001b[49m\u001b[43m)\u001b[49m\u001b[43m)\u001b[49m\n\u001b[1;32m      7\u001b[0m \u001b[38;5;66;03m# For testing, download without a bounding box\u001b[39;00m\n\u001b[1;32m      8\u001b[0m Query \u001b[38;5;241m=\u001b[39m DataGranules()\u001b[38;5;241m.\u001b[39mconcept_id(bedmachine)\n",
      "\u001b[0;31mTypeError\u001b[0m: bounding_box() missing 3 required positional arguments: 'lower_left_lat', 'upper_right_lon', and 'upper_right_lat'"
     ]
    }
   ],
   "source": [
    "# For MEaSUREs BedMachine data, concept-id: C1664160168-NSIDC_ECS\n",
    "bedmachine = 'C1664160168-NSIDC_ECS'\n",
    "\n",
    "# TODO: Define a bounding box from a IMBIE / MEaSUREs boundary\n",
    "# Query = DataGranules().concept_id(bedmachine).bounding_box(-134.7,58.9,-133.9,59.2)\n",
    "\n",
    "# For testing, download without a bounding box\n",
    "Query = DataGranules().concept_id(bedmachine)\n",
    "\n",
    "print(f'Granules found: {Query.hits()}')"
   ]
  },
  {
   "cell_type": "code",
   "execution_count": null,
   "id": "e0893c53-8bb7-402b-9698-d6abc7bd7e18",
   "metadata": {
    "tags": [
     "hide-output"
    ]
   },
   "outputs": [],
   "source": [
    "# Get the relevant granules for the collectin\n",
    "granules = Query.get()\n",
    "print(granules)"
   ]
  },
  {
   "cell_type": "code",
   "execution_count": null,
   "id": "07c383db-1d0b-4f8f-be54-6c680e1d5639",
   "metadata": {},
   "outputs": [],
   "source": [
    "# Download the data! \n",
    "\n",
    "# How long does this take?\n",
    "#%%time\n",
    "\n",
    "# Access the data from on-prem at NSIDC. Store this at \"data_loc\" locally.\n",
    "access = Store(auth)\n",
    "files = access.get(granules, local_path = data_loc)"
   ]
  },
  {
   "cell_type": "markdown",
   "id": "bbf91215-7507-40d0-aab6-017537a3dcbb",
   "metadata": {},
   "source": [
    "# Step 1 - Import MEaSUREs Boundaries from NSIDC"
   ]
  },
  {
   "cell_type": "code",
   "execution_count": null,
   "id": "bd2d5b1a-a137-4379-bed4-c94f7732abf5",
   "metadata": {},
   "outputs": [],
   "source": [
    "# Identify data collections available based on keyword (here, use \"bed topography\" to identify collections with bed topography (e.g., BedMachine)\n",
    "Query = DataCollections().keyword('boundaries').provider(\"NSIDC_ECS\")\n",
    "\n",
    "print(f'Collections found: {Query.hits()}')"
   ]
  },
  {
   "cell_type": "code",
   "execution_count": null,
   "id": "e5e1daac-e0bd-4f4a-b1ba-1a6345992056",
   "metadata": {},
   "outputs": [],
   "source": [
    "# Review the shortName and Abstract for all collections in order to identify the best dataset to use.\n",
    "collections = Query.fields(['ShortName','Abstract']).get()\n",
    "print(collections)"
   ]
  },
  {
   "cell_type": "code",
   "execution_count": null,
   "id": "56548f00-27c2-4bea-b08a-180ff44dc01e",
   "metadata": {},
   "outputs": [
    {
     "ename": "NameError",
     "evalue": "name 'bedmachine' is not defined",
     "output_type": "error",
     "traceback": [
      "\u001b[0;31m---------------------------------------------------------------------------\u001b[0m",
      "\u001b[0;31mNameError\u001b[0m                                 Traceback (most recent call last)",
      "Input \u001b[0;32mIn [47]\u001b[0m, in \u001b[0;36m<cell line: 5>\u001b[0;34m()\u001b[0m\n\u001b[1;32m      2\u001b[0m boundaries \u001b[38;5;241m=\u001b[39m \u001b[38;5;124m'\u001b[39m\u001b[38;5;124mC1454773262-NSIDC_ECS\u001b[39m\u001b[38;5;124m'\u001b[39m\n\u001b[1;32m      4\u001b[0m \u001b[38;5;66;03m# TODO: Define a bounding box from a IMBIE / MEaSUREs boundary\u001b[39;00m\n\u001b[0;32m----> 5\u001b[0m Query \u001b[38;5;241m=\u001b[39m DataGranules()\u001b[38;5;241m.\u001b[39mconcept_id(\u001b[43mbedmachine\u001b[49m)\u001b[38;5;241m.\u001b[39mbounding_box(bbox)\n\u001b[1;32m      7\u001b[0m \u001b[38;5;66;03m# For testing, download without a bounding box\u001b[39;00m\n\u001b[1;32m      8\u001b[0m Query \u001b[38;5;241m=\u001b[39m DataGranules()\u001b[38;5;241m.\u001b[39mconcept_id(boundaries)\n",
      "\u001b[0;31mNameError\u001b[0m: name 'bedmachine' is not defined"
     ]
    }
   ],
   "source": [
    "# For MEaSUREs boundaries, concept-id: C1454773262-NSIDC_ECS\n",
    "boundaries = 'C1454773262-NSIDC_ECS'\n",
    "\n",
    "# TODO: Define a bounding box from a IMBIE / MEaSUREs boundary\n",
    "# Query = DataGranules().concept_id(bedmachine).bounding_box(-134.7,58.9,-133.9,59.2)\n",
    "\n",
    "# For testing, download without a bounding box\n",
    "Query = DataGranules().concept_id(boundaries)\n",
    "\n",
    "print(f'Granules found: {Query.hits()}')"
   ]
  },
  {
   "cell_type": "code",
   "execution_count": null,
   "id": "a1603016-4a6b-45fc-b720-2f3efee1aa81",
   "metadata": {},
   "outputs": [],
   "source": [
    "# Get the relevant granules for the collectin\n",
    "granules = Query.get()\n",
    "print(granules)\n",
    "\n",
    "# NOTE: The following datasets are contained here:\n",
    "# - \"Mask_Antarctica_v02\" is the 1st element\n",
    "# - \"Basins_IMBIE_Antarctica_v02\" is the 2nd element\n",
    "# - \"IceBoundaries_Antarctica_v02\" is the 3rd element\n",
    "# - \"GroundingLine_Antarctica_v02\" is the 4th element\n",
    "# - \"Basins_Antarctica_v02\" is the 5th element\n",
    "# - \"IceShelf_Antarctica_v02\" is the 6th element\n",
    "# - \"Coastline_Antarctica_v02\" is the 7th element"
   ]
  },
  {
   "cell_type": "code",
   "execution_count": null,
   "id": "ed76ece4-a213-434a-b141-bb9fd3fba2e1",
   "metadata": {},
   "outputs": [],
   "source": [
    "## NOTE - Thi Cell does not currently behave as expected. This returns the first file in each granule.\n",
    "## Work-around provided in following cell, using wget to download each file from data_links()\n",
    "\n",
    "# TODO: How do I download only one granuale from the list?\n",
    "# TODO: Confirm how to download multiple files within a given granule. The below code only returns the first element/file from each granule. It does not return all files/elements associated with the shapefile.\n",
    "\n",
    "# Access the data from on-prem at NSIDC. Store this at \"data_loc\" locally.\n",
    "# access = Store(auth)\n",
    "# files = access.get(granules, local_path = data_loc+\"boundaries/\")"
   ]
  },
  {
   "cell_type": "code",
   "execution_count": null,
   "id": "8d5fdd5e-8bc7-4426-bcc6-1fbed5d94b9d",
   "metadata": {},
   "outputs": [],
   "source": [
    "# Create a list of links to individual data files from each granule\n",
    "data_links = [granule.data_links() for granule in granules]\n",
    "\n",
    "# Loop over the list of data links for each granule - for each file, wget the file.\n",
    "# TODO: How to feed \"data_loc\" (or other) directly into the wget command rather than hardcoding this directory here?\n",
    "for i in data_links:\n",
    "    tmp = i\n",
    "    for j in tmp:\n",
    "        #print(j)\n",
    "        ! wget -nc {j} -P /home/jovyan/data/boundaries"
   ]
  },
  {
   "cell_type": "markdown",
   "id": "0b316b2d-353e-431b-97e2-b7ed8a6f3b47",
   "metadata": {},
   "source": [
    "# Step 2 - Subset the Antarctica Ice Boundaries for a given region [Totten Basin]"
   ]
  },
  {
   "cell_type": "code",
   "execution_count": 7,
   "id": "27bbc204-ac3f-4632-bc33-a27e39046f32",
   "metadata": {},
   "outputs": [],
   "source": [
    "bd = gpd.read_file(data_loc+\"/boundaries/IceBoundaries_Antarctica_v02.shp\")"
   ]
  },
  {
   "cell_type": "code",
   "execution_count": 31,
   "id": "e193704b-8abc-4ae1-887c-65ea93f4bd14",
   "metadata": {},
   "outputs": [
    {
     "name": "stdout",
     "output_type": "stream",
     "text": [
      "0    POLYGON ((-1604213.024 911528.811, -1603107.44...\n",
      "1    POLYGON ((-680809.736 1356261.688, -680579.602...\n",
      "2    POLYGON ((-650479.108 590441.379, -644265.131 ...\n",
      "3    POLYGON ((-549906.633 1305863.952, -572323.238...\n",
      "4    POLYGON ((-418449.622 1964493.872, -417441.371...\n",
      "Name: geometry, dtype: geometry\n"
     ]
    },
    {
     "data": {
      "image/png": "[encoded data removed]",
      "text/plain": [
       "<Figure size 432x288 with 1 Axes>"
      ]
     },
     "metadata": {
      "needs_background": "light"
     },
     "output_type": "display_data"
    }
   ],
   "source": [
    "# Plot shapefile to make sure it as expected\n",
    "bd.plot()\n",
    "\n",
    "# 'Geometry' can be extracted - here, we print out the head of the geometry field\n",
    "print(bd['geometry'].head())"
   ]
  },
  {
   "cell_type": "code",
   "execution_count": 32,
   "id": "13edc086-bfe0-415f-8b12-80e3de4b4a2e",
   "metadata": {},
   "outputs": [
    {
     "data": {
      "text/html": [
       "<div>\n",
       "<style scoped>\n",
       "    .dataframe tbody tr th:only-of-type {\n",
       "        vertical-align: middle;\n",
       "    }\n",
       "\n",
       "    .dataframe tbody tr th {\n",
       "        vertical-align: top;\n",
       "    }\n",
       "\n",
       "    .dataframe thead th {\n",
       "        text-align: right;\n",
       "    }\n",
       "</style>\n",
       "<table border=\"1\" class=\"dataframe\">\n",
       "  <thead>\n",
       "    <tr style=\"text-align: right;\">\n",
       "      <th></th>\n",
       "      <th>NAME</th>\n",
       "      <th>Regions</th>\n",
       "      <th>Subregions</th>\n",
       "      <th>TYPE</th>\n",
       "      <th>Asso_Shelf</th>\n",
       "      <th>geometry</th>\n",
       "    </tr>\n",
       "  </thead>\n",
       "  <tbody>\n",
       "    <tr>\n",
       "      <th>40</th>\n",
       "      <td>Totten</td>\n",
       "      <td>East</td>\n",
       "      <td>Cp-D</td>\n",
       "      <td>GR</td>\n",
       "      <td>Totten</td>\n",
       "      <td>POLYGON ((2239414.251 -1154868.625, 2238375.56...</td>\n",
       "    </tr>\n",
       "  </tbody>\n",
       "</table>\n",
       "</div>"
      ],
      "text/plain": [
       "      NAME Regions Subregions TYPE Asso_Shelf  \\\n",
       "40  Totten    East       Cp-D   GR     Totten   \n",
       "\n",
       "                                             geometry  \n",
       "40  POLYGON ((2239414.251 -1154868.625, 2238375.56...  "
      ]
     },
     "execution_count": 32,
     "metadata": {},
     "output_type": "execute_result"
    },
    {
     "data": {
      "image/png": "[encoded data removed]",
      "text/plain": [
       "<Figure size 432x288 with 1 Axes>"
      ]
     },
     "metadata": {
      "needs_background": "light"
     },
     "output_type": "display_data"
    }
   ],
   "source": [
    "# Isolated only grounded ice (GR) for the Totten basin\n",
    "tot = bd[(bd[\"NAME\"] == \"Totten\") & (bd[\"TYPE\"] == \"GR\")]\n",
    "\n",
    "# Plot the Totten subset\n",
    "tot.plot()\n",
    "\n",
    "# View tot to make sure it is as expected\n",
    "tot"
   ]
  },
  {
   "cell_type": "code",
   "execution_count": 53,
   "id": "2e6dec04-d397-45de-8b92-e2d35a1c15d5",
   "metadata": {},
   "outputs": [
    {
     "data": {
      "text/plain": [
       "array([ 1309143.63239696, -1154868.6246857 ,  2362495.34415517,\n",
       "        -107085.52740615])"
      ]
     },
     "execution_count": 53,
     "metadata": {},
     "output_type": "execute_result"
    }
   ],
   "source": [
    "# Identify the bounding box for the given region: total_bounds = total bounding box of all polygons (if multiple); bounds = bounding box for each polygon (if multiple).\n",
    "# When only one polygon (in this case), .total_bounds, or .bounds are comparable\n",
    "bbox = tot.total_bounds\n",
    "bbox"
   ]
  },
  {
   "cell_type": "markdown",
   "id": "ccc6965c-ffba-4f12-81fe-61f6cc6ea227",
   "metadata": {},
   "source": [
    "# Step 4 - Read-in raster files and subset to given region"
   ]
  },
  {
   "cell_type": "code",
   "execution_count": 61,
   "id": "39e419b2-b6a2-4a80-91fc-ca9800f29fea",
   "metadata": {},
   "outputs": [
    {
     "data": {
      "text/html": [
       "<div><svg style=\"position: absolute; width: 0; height: 0; overflow: hidden\">\n",
       "<defs>\n",
       "<symbol id=\"icon-database\" viewBox=\"0 0 32 32\">\n",
       "<path d=\"M16 0c-8.837 0-16 2.239-16 5v4c0 2.761 7.163 5 16 5s16-2.239 16-5v-4c0-2.761-7.163-5-16-5z\"></path>\n",
       "<path d=\"M16 17c-8.837 0-16-2.239-16-5v6c0 2.761 7.163 5 16 5s16-2.239 16-5v-6c0 2.761-7.163 5-16 5z\"></path>\n",
       "<path d=\"M16 26c-8.837 0-16-2.239-16-5v6c0 2.761 7.163 5 16 5s16-2.239 16-5v-6c0 2.761-7.163 5-16 5z\"></path>\n",
       "</symbol>\n",
       "<symbol id=\"icon-file-text2\" viewBox=\"0 0 32 32\">\n",
       "<path d=\"M28.681 7.159c-0.694-0.947-1.662-2.053-2.724-3.116s-2.169-2.030-3.116-2.724c-1.612-1.182-2.393-1.319-2.841-1.319h-15.5c-1.378 0-2.5 1.121-2.5 2.5v27c0 1.378 1.122 2.5 2.5 2.5h23c1.378 0 2.5-1.122 2.5-2.5v-19.5c0-0.448-0.137-1.23-1.319-2.841zM24.543 5.457c0.959 0.959 1.712 1.825 2.268 2.543h-4.811v-4.811c0.718 0.556 1.584 1.309 2.543 2.268zM28 29.5c0 0.271-0.229 0.5-0.5 0.5h-23c-0.271 0-0.5-0.229-0.5-0.5v-27c0-0.271 0.229-0.5 0.5-0.5 0 0 15.499-0 15.5 0v7c0 0.552 0.448 1 1 1h7v19.5z\"></path>\n",
       "<path d=\"M23 26h-14c-0.552 0-1-0.448-1-1s0.448-1 1-1h14c0.552 0 1 0.448 1 1s-0.448 1-1 1z\"></path>\n",
       "<path d=\"M23 22h-14c-0.552 0-1-0.448-1-1s0.448-1 1-1h14c0.552 0 1 0.448 1 1s-0.448 1-1 1z\"></path>\n",
       "<path d=\"M23 18h-14c-0.552 0-1-0.448-1-1s0.448-1 1-1h14c0.552 0 1 0.448 1 1s-0.448 1-1 1z\"></path>\n",
       "</symbol>\n",
       "</defs>\n",
       "</svg>\n",
       "<style>/* CSS stylesheet for displaying xarray objects in jupyterlab.\n",
       " *\n",
       " */\n",
       "\n",
       ":root {\n",
       "  --xr-font-color0: var(--jp-content-font-color0, rgba(0, 0, 0, 1));\n",
       "  --xr-font-color2: var(--jp-content-font-color2, rgba(0, 0, 0, 0.54));\n",
       "  --xr-font-color3: var(--jp-content-font-color3, rgba(0, 0, 0, 0.38));\n",
       "  --xr-border-color: var(--jp-border-color2, #e0e0e0);\n",
       "  --xr-disabled-color: var(--jp-layout-color3, #bdbdbd);\n",
       "  --xr-background-color: var(--jp-layout-color0, white);\n",
       "  --xr-background-color-row-even: var(--jp-layout-color1, white);\n",
       "  --xr-background-color-row-odd: var(--jp-layout-color2, #eeeeee);\n",
       "}\n",
       "\n",
       "html[theme=dark],\n",
       "body.vscode-dark {\n",
       "  --xr-font-color0: rgba(255, 255, 255, 1);\n",
       "  --xr-font-color2: rgba(255, 255, 255, 0.54);\n",
       "  --xr-font-color3: rgba(255, 255, 255, 0.38);\n",
       "  --xr-border-color: #1F1F1F;\n",
       "  --xr-disabled-color: #515151;\n",
       "  --xr-background-color: #111111;\n",
       "  --xr-background-color-row-even: #111111;\n",
       "  --xr-background-color-row-odd: #313131;\n",
       "}\n",
       "\n",
       ".xr-wrap {\n",
       "  display: block !important;\n",
       "  min-width: 300px;\n",
       "  max-width: 700px;\n",
       "}\n",
       "\n",
       ".xr-text-repr-fallback {\n",
       "  /* fallback to plain text repr when CSS is not injected (untrusted notebook) */\n",
       "  display: none;\n",
       "}\n",
       "\n",
       ".xr-header {\n",
       "  padding-top: 6px;\n",
       "  padding-bottom: 6px;\n",
       "  margin-bottom: 4px;\n",
       "  border-bottom: solid 1px var(--xr-border-color);\n",
       "}\n",
       "\n",
       ".xr-header > div,\n",
       ".xr-header > ul {\n",
       "  display: inline;\n",
       "  margin-top: 0;\n",
       "  margin-bottom: 0;\n",
       "}\n",
       "\n",
       ".xr-obj-type,\n",
       ".xr-array-name {\n",
       "  margin-left: 2px;\n",
       "  margin-right: 10px;\n",
       "}\n",
       "\n",
       ".xr-obj-type {\n",
       "  color: var(--xr-font-color2);\n",
       "}\n",
       "\n",
       ".xr-sections {\n",
       "  padding-left: 0 !important;\n",
       "  display: grid;\n",
       "  grid-template-columns: 150px auto auto 1fr 20px 20px;\n",
       "}\n",
       "\n",
       ".xr-section-item {\n",
       "  display: contents;\n",
       "}\n",
       "\n",
       ".xr-section-item input {\n",
       "  display: none;\n",
       "}\n",
       "\n",
       ".xr-section-item input + label {\n",
       "  color: var(--xr-disabled-color);\n",
       "}\n",
       "\n",
       ".xr-section-item input:enabled + label {\n",
       "  cursor: pointer;\n",
       "  color: var(--xr-font-color2);\n",
       "}\n",
       "\n",
       ".xr-section-item input:enabled + label:hover {\n",
       "  color: var(--xr-font-color0);\n",
       "}\n",
       "\n",
       ".xr-section-summary {\n",
       "  grid-column: 1;\n",
       "  color: var(--xr-font-color2);\n",
       "  font-weight: 500;\n",
       "}\n",
       "\n",
       ".xr-section-summary > span {\n",
       "  display: inline-block;\n",
       "  padding-left: 0.5em;\n",
       "}\n",
       "\n",
       ".xr-section-summary-in:disabled + label {\n",
       "  color: var(--xr-font-color2);\n",
       "}\n",
       "\n",
       ".xr-section-summary-in + label:before {\n",
       "  display: inline-block;\n",
       "  content: '►';\n",
       "  font-size: 11px;\n",
       "  width: 15px;\n",
       "  text-align: center;\n",
       "}\n",
       "\n",
       ".xr-section-summary-in:disabled + label:before {\n",
       "  color: var(--xr-disabled-color);\n",
       "}\n",
       "\n",
       ".xr-section-summary-in:checked + label:before {\n",
       "  content: '▼';\n",
       "}\n",
       "\n",
       ".xr-section-summary-in:checked + label > span {\n",
       "  display: none;\n",
       "}\n",
       "\n",
       ".xr-section-summary,\n",
       ".xr-section-inline-details {\n",
       "  padding-top: 4px;\n",
       "  padding-bottom: 4px;\n",
       "}\n",
       "\n",
       ".xr-section-inline-details {\n",
       "  grid-column: 2 / -1;\n",
       "}\n",
       "\n",
       ".xr-section-details {\n",
       "  display: none;\n",
       "  grid-column: 1 / -1;\n",
       "  margin-bottom: 5px;\n",
       "}\n",
       "\n",
       ".xr-section-summary-in:checked ~ .xr-section-details {\n",
       "  display: contents;\n",
       "}\n",
       "\n",
       ".xr-array-wrap {\n",
       "  grid-column: 1 / -1;\n",
       "  display: grid;\n",
       "  grid-template-columns: 20px auto;\n",
       "}\n",
       "\n",
       ".xr-array-wrap > label {\n",
       "  grid-column: 1;\n",
       "  vertical-align: top;\n",
       "}\n",
       "\n",
       ".xr-preview {\n",
       "  color: var(--xr-font-color3);\n",
       "}\n",
       "\n",
       ".xr-array-preview,\n",
       ".xr-array-data {\n",
       "  padding: 0 5px !important;\n",
       "  grid-column: 2;\n",
       "}\n",
       "\n",
       ".xr-array-data,\n",
       ".xr-array-in:checked ~ .xr-array-preview {\n",
       "  display: none;\n",
       "}\n",
       "\n",
       ".xr-array-in:checked ~ .xr-array-data,\n",
       ".xr-array-preview {\n",
       "  display: inline-block;\n",
       "}\n",
       "\n",
       ".xr-dim-list {\n",
       "  display: inline-block !important;\n",
       "  list-style: none;\n",
       "  padding: 0 !important;\n",
       "  margin: 0;\n",
       "}\n",
       "\n",
       ".xr-dim-list li {\n",
       "  display: inline-block;\n",
       "  padding: 0;\n",
       "  margin: 0;\n",
       "}\n",
       "\n",
       ".xr-dim-list:before {\n",
       "  content: '(';\n",
       "}\n",
       "\n",
       ".xr-dim-list:after {\n",
       "  content: ')';\n",
       "}\n",
       "\n",
       ".xr-dim-list li:not(:last-child):after {\n",
       "  content: ',';\n",
       "  padding-right: 5px;\n",
       "}\n",
       "\n",
       ".xr-has-index {\n",
       "  font-weight: bold;\n",
       "}\n",
       "\n",
       ".xr-var-list,\n",
       ".xr-var-item {\n",
       "  display: contents;\n",
       "}\n",
       "\n",
       ".xr-var-item > div,\n",
       ".xr-var-item label,\n",
       ".xr-var-item > .xr-var-name span {\n",
       "  background-color: var(--xr-background-color-row-even);\n",
       "  margin-bottom: 0;\n",
       "}\n",
       "\n",
       ".xr-var-item > .xr-var-name:hover span {\n",
       "  padding-right: 5px;\n",
       "}\n",
       "\n",
       ".xr-var-list > li:nth-child(odd) > div,\n",
       ".xr-var-list > li:nth-child(odd) > label,\n",
       ".xr-var-list > li:nth-child(odd) > .xr-var-name span {\n",
       "  background-color: var(--xr-background-color-row-odd);\n",
       "}\n",
       "\n",
       ".xr-var-name {\n",
       "  grid-column: 1;\n",
       "}\n",
       "\n",
       ".xr-var-dims {\n",
       "  grid-column: 2;\n",
       "}\n",
       "\n",
       ".xr-var-dtype {\n",
       "  grid-column: 3;\n",
       "  text-align: right;\n",
       "  color: var(--xr-font-color2);\n",
       "}\n",
       "\n",
       ".xr-var-preview {\n",
       "  grid-column: 4;\n",
       "}\n",
       "\n",
       ".xr-var-name,\n",
       ".xr-var-dims,\n",
       ".xr-var-dtype,\n",
       ".xr-preview,\n",
       ".xr-attrs dt {\n",
       "  white-space: nowrap;\n",
       "  overflow: hidden;\n",
       "  text-overflow: ellipsis;\n",
       "  padding-right: 10px;\n",
       "}\n",
       "\n",
       ".xr-var-name:hover,\n",
       ".xr-var-dims:hover,\n",
       ".xr-var-dtype:hover,\n",
       ".xr-attrs dt:hover {\n",
       "  overflow: visible;\n",
       "  width: auto;\n",
       "  z-index: 1;\n",
       "}\n",
       "\n",
       ".xr-var-attrs,\n",
       ".xr-var-data {\n",
       "  display: none;\n",
       "  background-color: var(--xr-background-color) !important;\n",
       "  padding-bottom: 5px !important;\n",
       "}\n",
       "\n",
       ".xr-var-attrs-in:checked ~ .xr-var-attrs,\n",
       ".xr-var-data-in:checked ~ .xr-var-data {\n",
       "  display: block;\n",
       "}\n",
       "\n",
       ".xr-var-data > table {\n",
       "  float: right;\n",
       "}\n",
       "\n",
       ".xr-var-name span,\n",
       ".xr-var-data,\n",
       ".xr-attrs {\n",
       "  padding-left: 25px !important;\n",
       "}\n",
       "\n",
       ".xr-attrs,\n",
       ".xr-var-attrs,\n",
       ".xr-var-data {\n",
       "  grid-column: 1 / -1;\n",
       "}\n",
       "\n",
       "dl.xr-attrs {\n",
       "  padding: 0;\n",
       "  margin: 0;\n",
       "  display: grid;\n",
       "  grid-template-columns: 125px auto;\n",
       "}\n",
       "\n",
       ".xr-attrs dt,\n",
       ".xr-attrs dd {\n",
       "  padding: 0;\n",
       "  margin: 0;\n",
       "  float: left;\n",
       "  padding-right: 10px;\n",
       "  width: auto;\n",
       "}\n",
       "\n",
       ".xr-attrs dt {\n",
       "  font-weight: normal;\n",
       "  grid-column: 1;\n",
       "}\n",
       "\n",
       ".xr-attrs dt:hover span {\n",
       "  display: inline-block;\n",
       "  background: var(--xr-background-color);\n",
       "  padding-right: 10px;\n",
       "}\n",
       "\n",
       ".xr-attrs dd {\n",
       "  grid-column: 2;\n",
       "  white-space: pre-wrap;\n",
       "  word-break: break-all;\n",
       "}\n",
       "\n",
       ".xr-icon-database,\n",
       ".xr-icon-file-text2 {\n",
       "  display: inline-block;\n",
       "  vertical-align: middle;\n",
       "  width: 1em;\n",
       "  height: 1.5em !important;\n",
       "  stroke-width: 0;\n",
       "  stroke: currentColor;\n",
       "  fill: currentColor;\n",
       "}\n",
       "</style><pre class='xr-text-repr-fallback'>&lt;xarray.Dataset&gt;\n",
       "Dimensions:  (band: 1, x: 13333, y: 13333)\n",
       "Coordinates:\n",
       "  * band     (band) int64 1\n",
       "  * x        (x) float64 -3.333e+06 -3.332e+06 ... 3.332e+06 3.333e+06\n",
       "  * y        (y) float64 3.333e+06 3.332e+06 3.332e+06 ... -3.332e+06 -3.333e+06\n",
       "    mapping  int64 0\n",
       "Data variables:\n",
       "    bed      (band, y, x) float32 ...\n",
       "Attributes: (12/17)\n",
       "    Author:                      Mathieu Morlighem\n",
       "    Conventions:                 CF-1.7\n",
       "    Data_citation:               Morlighem M. et al., (2019), Deep glacial tr...\n",
       "    ice_density (kg m-3):        917\n",
       "    license:                     No restrictions on access or use\n",
       "    Notes:                       Data processed at the Department of Earth Sy...\n",
       "    ...                          ...\n",
       "    sea_water_density (kg m-3):  1027\n",
       "    spacing:                     500\n",
       "    Title:                       BedMachine Antarctica\n",
       "    version:                     05-Nov-2019 (v1.38)\n",
       "    xmin:                        -3333000\n",
       "    ymax:                        3333000</pre><div class='xr-wrap' style='display:none'><div class='xr-header'><div class='xr-obj-type'>xarray.Dataset</div></div><ul class='xr-sections'><li class='xr-section-item'><input id='section-72237e09-e781-4543-9c86-09c644780d37' class='xr-section-summary-in' type='checkbox' disabled ><label for='section-72237e09-e781-4543-9c86-09c644780d37' class='xr-section-summary'  title='Expand/collapse section'>Dimensions:</label><div class='xr-section-inline-details'><ul class='xr-dim-list'><li><span class='xr-has-index'>band</span>: 1</li><li><span class='xr-has-index'>x</span>: 13333</li><li><span class='xr-has-index'>y</span>: 13333</li></ul></div><div class='xr-section-details'></div></li><li class='xr-section-item'><input id='section-277d3f4a-f99c-4a79-a974-518d6696a894' class='xr-section-summary-in' type='checkbox'  checked><label for='section-277d3f4a-f99c-4a79-a974-518d6696a894' class='xr-section-summary' >Coordinates: <span>(4)</span></label><div class='xr-section-inline-details'></div><div class='xr-section-details'><ul class='xr-var-list'><li class='xr-var-item'><div class='xr-var-name'><span class='xr-has-index'>band</span></div><div class='xr-var-dims'>(band)</div><div class='xr-var-dtype'>int64</div><div class='xr-var-preview xr-preview'>1</div><input id='attrs-b062aada-45ea-4480-97d3-046b6aafa59e' class='xr-var-attrs-in' type='checkbox' disabled><label for='attrs-b062aada-45ea-4480-97d3-046b6aafa59e' title='Show/Hide attributes'><svg class='icon xr-icon-file-text2'><use xlink:href='#icon-file-text2'></use></svg></label><input id='data-524f709d-1901-4ec2-9eba-405c6495bc2b' class='xr-var-data-in' type='checkbox'><label for='data-524f709d-1901-4ec2-9eba-405c6495bc2b' title='Show/Hide data repr'><svg class='icon xr-icon-database'><use xlink:href='#icon-database'></use></svg></label><div class='xr-var-attrs'><dl class='xr-attrs'></dl></div><div class='xr-var-data'><pre>array([1])</pre></div></li><li class='xr-var-item'><div class='xr-var-name'><span class='xr-has-index'>x</span></div><div class='xr-var-dims'>(x)</div><div class='xr-var-dtype'>float64</div><div class='xr-var-preview xr-preview'>-3.333e+06 -3.332e+06 ... 3.333e+06</div><input id='attrs-3b91663a-4b3c-4f22-a29b-8bc5fa982a7a' class='xr-var-attrs-in' type='checkbox' ><label for='attrs-3b91663a-4b3c-4f22-a29b-8bc5fa982a7a' title='Show/Hide attributes'><svg class='icon xr-icon-file-text2'><use xlink:href='#icon-file-text2'></use></svg></label><input id='data-21a7d6aa-d0c5-49c3-9bf3-d450c13c49af' class='xr-var-data-in' type='checkbox'><label for='data-21a7d6aa-d0c5-49c3-9bf3-d450c13c49af' title='Show/Hide data repr'><svg class='icon xr-icon-database'><use xlink:href='#icon-database'></use></svg></label><div class='xr-var-attrs'><dl class='xr-attrs'><dt><span>long_name :</span></dt><dd>Cartesian x-coordinate</dd><dt><span>standard_name :</span></dt><dd>projection_x_coordinate</dd><dt><span>units :</span></dt><dd>meter</dd></dl></div><div class='xr-var-data'><pre>array([-3333000., -3332500., -3332000., ...,  3332000.,  3332500.,  3333000.])</pre></div></li><li class='xr-var-item'><div class='xr-var-name'><span class='xr-has-index'>y</span></div><div class='xr-var-dims'>(y)</div><div class='xr-var-dtype'>float64</div><div class='xr-var-preview xr-preview'>3.333e+06 3.332e+06 ... -3.333e+06</div><input id='attrs-c1d46931-d6f2-4c5e-a762-22d850563f55' class='xr-var-attrs-in' type='checkbox' ><label for='attrs-c1d46931-d6f2-4c5e-a762-22d850563f55' title='Show/Hide attributes'><svg class='icon xr-icon-file-text2'><use xlink:href='#icon-file-text2'></use></svg></label><input id='data-69a6a813-8dda-409f-9a10-70951d91f9f4' class='xr-var-data-in' type='checkbox'><label for='data-69a6a813-8dda-409f-9a10-70951d91f9f4' title='Show/Hide data repr'><svg class='icon xr-icon-database'><use xlink:href='#icon-database'></use></svg></label><div class='xr-var-attrs'><dl class='xr-attrs'><dt><span>long_name :</span></dt><dd>Cartesian y-coordinate</dd><dt><span>standard_name :</span></dt><dd>projection_y_coordinate</dd><dt><span>units :</span></dt><dd>meter</dd></dl></div><div class='xr-var-data'><pre>array([ 3333000.,  3332500.,  3332000., ..., -3332000., -3332500., -3333000.])</pre></div></li><li class='xr-var-item'><div class='xr-var-name'><span>mapping</span></div><div class='xr-var-dims'>()</div><div class='xr-var-dtype'>int64</div><div class='xr-var-preview xr-preview'>0</div><input id='attrs-18f71636-acd9-449d-9ccc-df37299ee943' class='xr-var-attrs-in' type='checkbox' ><label for='attrs-18f71636-acd9-449d-9ccc-df37299ee943' title='Show/Hide attributes'><svg class='icon xr-icon-file-text2'><use xlink:href='#icon-file-text2'></use></svg></label><input id='data-0ab49ef8-2c7c-4a6e-a639-f6c77f1a8076' class='xr-var-data-in' type='checkbox'><label for='data-0ab49ef8-2c7c-4a6e-a639-f6c77f1a8076' title='Show/Hide data repr'><svg class='icon xr-icon-database'><use xlink:href='#icon-database'></use></svg></label><div class='xr-var-attrs'><dl class='xr-attrs'><dt><span>crs_wkt :</span></dt><dd>PROJCS[&quot;unnamed&quot;,GEOGCS[&quot;unknown&quot;,DATUM[&quot;unnamed&quot;,SPHEROID[&quot;Spheroid&quot;,6378273,298.27940504282]],PRIMEM[&quot;Greenwich&quot;,0],UNIT[&quot;degree&quot;,0.0174532925199433,AUTHORITY[&quot;EPSG&quot;,&quot;9122&quot;]]],PROJECTION[&quot;Polar_Stereographic&quot;],PARAMETER[&quot;latitude_of_origin&quot;,-71],PARAMETER[&quot;central_meridian&quot;,0],PARAMETER[&quot;false_easting&quot;,0],PARAMETER[&quot;false_northing&quot;,0],UNIT[&quot;unknown&quot;,1],AXIS[&quot;Easting&quot;,NORTH],AXIS[&quot;Northing&quot;,NORTH]]</dd><dt><span>semi_major_axis :</span></dt><dd>6378273.0</dd><dt><span>semi_minor_axis :</span></dt><dd>6356889.448564109</dd><dt><span>inverse_flattening :</span></dt><dd>298.27940504282</dd><dt><span>reference_ellipsoid_name :</span></dt><dd>Spheroid</dd><dt><span>longitude_of_prime_meridian :</span></dt><dd>0.0</dd><dt><span>prime_meridian_name :</span></dt><dd>Greenwich</dd><dt><span>geographic_crs_name :</span></dt><dd>unknown</dd><dt><span>horizontal_datum_name :</span></dt><dd>unnamed</dd><dt><span>projected_crs_name :</span></dt><dd>unnamed</dd><dt><span>grid_mapping_name :</span></dt><dd>polar_stereographic</dd><dt><span>standard_parallel :</span></dt><dd>-71.0</dd><dt><span>straight_vertical_longitude_from_pole :</span></dt><dd>0.0</dd><dt><span>false_easting :</span></dt><dd>0.0</dd><dt><span>false_northing :</span></dt><dd>0.0</dd><dt><span>spatial_ref :</span></dt><dd>PROJCS[&quot;unnamed&quot;,GEOGCS[&quot;unknown&quot;,DATUM[&quot;unnamed&quot;,SPHEROID[&quot;Spheroid&quot;,6378273,298.27940504282]],PRIMEM[&quot;Greenwich&quot;,0],UNIT[&quot;degree&quot;,0.0174532925199433,AUTHORITY[&quot;EPSG&quot;,&quot;9122&quot;]]],PROJECTION[&quot;Polar_Stereographic&quot;],PARAMETER[&quot;latitude_of_origin&quot;,-71],PARAMETER[&quot;central_meridian&quot;,0],PARAMETER[&quot;false_easting&quot;,0],PARAMETER[&quot;false_northing&quot;,0],UNIT[&quot;unknown&quot;,1],AXIS[&quot;Easting&quot;,NORTH],AXIS[&quot;Northing&quot;,NORTH]]</dd><dt><span>GeoTransform :</span></dt><dd>-3333250.0 500.0 0.0 3333250.0 0.0 -500.0</dd></dl></div><div class='xr-var-data'><pre>array(0)</pre></div></li></ul></div></li><li class='xr-section-item'><input id='section-c3bfc3a3-013f-4bff-b107-4a346f4d9886' class='xr-section-summary-in' type='checkbox'  checked><label for='section-c3bfc3a3-013f-4bff-b107-4a346f4d9886' class='xr-section-summary' >Data variables: <span>(1)</span></label><div class='xr-section-inline-details'></div><div class='xr-section-details'><ul class='xr-var-list'><li class='xr-var-item'><div class='xr-var-name'><span>bed</span></div><div class='xr-var-dims'>(band, y, x)</div><div class='xr-var-dtype'>float32</div><div class='xr-var-preview xr-preview'>...</div><input id='attrs-9f1a46ba-f024-4949-a6d0-7345e7ef207f' class='xr-var-attrs-in' type='checkbox' ><label for='attrs-9f1a46ba-f024-4949-a6d0-7345e7ef207f' title='Show/Hide attributes'><svg class='icon xr-icon-file-text2'><use xlink:href='#icon-file-text2'></use></svg></label><input id='data-a8325551-c805-463f-9a06-05490d3d0043' class='xr-var-data-in' type='checkbox'><label for='data-a8325551-c805-463f-9a06-05490d3d0043' title='Show/Hide data repr'><svg class='icon xr-icon-database'><use xlink:href='#icon-database'></use></svg></label><div class='xr-var-attrs'><dl class='xr-attrs'><dt><span>long_name :</span></dt><dd>bed topography</dd><dt><span>source :</span></dt><dd>IBCSO and Mathieu Morlighem</dd><dt><span>standard_name :</span></dt><dd>bedrock_altitude</dd><dt><span>units :</span></dt><dd>meters</dd><dt><span>_FillValue :</span></dt><dd>-9999.0</dd><dt><span>scale_factor :</span></dt><dd>1.0</dd><dt><span>add_offset :</span></dt><dd>0.0</dd></dl></div><div class='xr-var-data'><pre>[177768889 values with dtype=float32]</pre></div></li></ul></div></li><li class='xr-section-item'><input id='section-61c48bf3-3141-476d-9a82-a2869120b1b5' class='xr-section-summary-in' type='checkbox'  ><label for='section-61c48bf3-3141-476d-9a82-a2869120b1b5' class='xr-section-summary' >Attributes: <span>(17)</span></label><div class='xr-section-inline-details'></div><div class='xr-section-details'><dl class='xr-attrs'><dt><span>Author :</span></dt><dd>Mathieu Morlighem</dd><dt><span>Conventions :</span></dt><dd>CF-1.7</dd><dt><span>Data_citation :</span></dt><dd>Morlighem M. et al., (2019), Deep glacial troughs and stabilizing ridges unveiled beneath the margins of the Antarctic ice sheet, Nature Geoscience (accepted)</dd><dt><span>ice_density (kg m-3) :</span></dt><dd>917</dd><dt><span>license :</span></dt><dd>No restrictions on access or use</dd><dt><span>Notes :</span></dt><dd>Data processed at the Department of Earth System Science, University of California, Irvine</dd><dt><span>no_data :</span></dt><dd>-9999</dd><dt><span>nx :</span></dt><dd>13333</dd><dt><span>ny :</span></dt><dd>13333</dd><dt><span>proj4 :</span></dt><dd>+init=epsg:3031</dd><dt><span>Projection :</span></dt><dd>Polar Stereographic South (71S,0E)</dd><dt><span>sea_water_density (kg m-3) :</span></dt><dd>1027</dd><dt><span>spacing :</span></dt><dd>500</dd><dt><span>Title :</span></dt><dd>BedMachine Antarctica</dd><dt><span>version :</span></dt><dd>05-Nov-2019 (v1.38)</dd><dt><span>xmin :</span></dt><dd>-3333000</dd><dt><span>ymax :</span></dt><dd>3333000</dd></dl></div></li></ul></div></div>"
      ],
      "text/plain": [
       "<xarray.Dataset>\n",
       "Dimensions:  (band: 1, x: 13333, y: 13333)\n",
       "Coordinates:\n",
       "  * band     (band) int64 1\n",
       "  * x        (x) float64 -3.333e+06 -3.332e+06 ... 3.332e+06 3.333e+06\n",
       "  * y        (y) float64 3.333e+06 3.332e+06 3.332e+06 ... -3.332e+06 -3.333e+06\n",
       "    mapping  int64 0\n",
       "Data variables:\n",
       "    bed      (band, y, x) float32 ...\n",
       "Attributes: (12/17)\n",
       "    Author:                      Mathieu Morlighem\n",
       "    Conventions:                 CF-1.7\n",
       "    Data_citation:               Morlighem M. et al., (2019), Deep glacial tr...\n",
       "    ice_density (kg m-3):        917\n",
       "    license:                     No restrictions on access or use\n",
       "    Notes:                       Data processed at the Department of Earth Sy...\n",
       "    ...                          ...\n",
       "    sea_water_density (kg m-3):  1027\n",
       "    spacing:                     500\n",
       "    Title:                       BedMachine Antarctica\n",
       "    version:                     05-Nov-2019 (v1.38)\n",
       "    xmin:                        -3333000\n",
       "    ymax:                        3333000"
      ]
     },
     "execution_count": 61,
     "metadata": {},
     "output_type": "execute_result"
    }
   ],
   "source": [
    "ds=rx.open_rasterio(data_loc+\"BedMachineAntarctica_2019-11-05_v01.nc\", variable = \"bed\")\n",
    "ds"
   ]
  },
  {
   "cell_type": "code",
   "execution_count": 40,
   "id": "47c2927b-5adc-453c-a96c-d59e39c32c42",
   "metadata": {},
   "outputs": [
    {
     "data": {
      "text/plain": [
       "array([ 1309143.63239696, -1154868.6246857 ,  2362495.34415517,\n",
       "        -107085.52740615])"
      ]
     },
     "execution_count": 40,
     "metadata": {},
     "output_type": "execute_result"
    }
   ],
   "source": [
    "tot.total_bounds"
   ]
  },
  {
   "cell_type": "code",
   "execution_count": null,
   "id": "fe74a33f-153a-4190-8f1d-b8793c0a085a",
   "metadata": {},
   "outputs": [],
   "source": []
  }
 ],
 "metadata": {
  "kernelspec": {
   "display_name": "Python 3 (ipykernel)",
   "language": "python",
   "name": "python3"
  },
  "language_info": {
   "codemirror_mode": {
    "name": "ipython",
    "version": 3
   },
   "file_extension": ".py",
   "mimetype": "text/x-python",
   "name": "python",
   "nbconvert_exporter": "python",
   "pygments_lexer": "ipython3",
   "version": "3.9.10"
  }
 },
 "nbformat": 4,
 "nbformat_minor": 5
}
