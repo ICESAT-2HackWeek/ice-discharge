{
 "cells": [
  {
   "cell_type": "markdown",
   "id": "81dacfe2-ff02-4ec1-a84c-ffe775611da6",
   "metadata": {},
   "source": [
    "# **2022-ice_discharge** - Calculate Grounded Ice Flux\n",
    "\n",
    "This notebook provides a general workflow to estimate grounded ice fluxes for [any] mapped ice boundaries in Antarctica. The following datasets are used *(as of Version -1.0)*:\n",
    "* MEaSUREs BedMachine Bed Topography\n",
    "* MEaSUREs Grounding Line\n",
    "* MEaSUREs Ice Boundaries\n",
    "* ATL14 Gridded Land Ice Height\n",
    "* ATL15 Gridded Land Ice Height Change\n",
    "* ITS_LIVE Ice Velocity (2018)\n",
    "\n",
    "## Contributors\n",
    "\n",
    "* Mark Hehlen\n",
    "* Bryony Freer\n",
    "* Emily Glazer\n",
    "* Hui Gao\n",
    "* Julia Andreasen\n",
    "* Lizzie Hebel\n",
    "* Lawrence Bird\n",
    "\n",
    "## General workflow\n",
    "\n",
    "The general approach for this work is as follows:\n",
    "1. Define an area-of-interest (ice boundary)\n",
    "2. Ingest key datasets from NSIDC\n",
    "3. Crop Antarctica-wide datasets to given area-of-interest\n",
    "\n",
    "4. \n",
    "- Download ATL14 (specific resolution)\n",
    "- Download ATL15 (specific resolution)\n",
    "- Can we do this for a line? if so, just download the data for the given flux gate (use grounding line to start with)\n",
    "- Ingest ATL14 & AT15 data\n",
    "- Crop ATl14 & ATL15 data for the aoi\n",
    "- Calculate ATL14 + ATL15 DEMs (12 total)\n",
    "\n",
    "5.\n",
    "- Download velocity data (ITS_LIVE / MEaSUREs)\n",
    "- Ingest velocity data\n",
    "- Crop velocity data for the aoi\n",
    "\n",
    "6. Align all raster data into A) consistent CRS and B) consistent grid.\n",
    "\n",
    "7. Calculate ice thickness as the difference between ICESat-2 DEM and MEaSUREs bed topography DEM\n",
    "\n",
    "8. Define a \"flux-gate\" based on mapped grounding line locations. Grounding lines are moved \"upstream\" X km to remove influence from floating ice\n",
    "9. Calculate the flux across the flux-gate at a given time (t)\n",
    "10. Plot a timeseries of the ice flux\n",
    "\n",
    "### Future Expansion\n",
    "\n",
    "Potential expansion of the current workflow includes:\n",
    "* Use ATL06 along-track data to compute velocities at higher temporal resolution than available in gridded products (e.g., ITS_LIVE).\n",
    "* Consider expanding velocity estimates to account for basal/shear stresses etc.\n",
    "* Better define flux gates by shifting the grounding line upstream (based on flow directions) to remove effects of floating data.\n",
    " \n"
   ]
  },
  {
   "cell_type": "markdown",
   "id": "e7a551f2-eb11-46eb-8221-3df78f6cb9cd",
   "metadata": {},
   "source": [
    "# Step 0 - Dependancies & Authentication"
   ]
  },
  {
   "cell_type": "code",
   "execution_count": null,
   "id": "a392eef3-68a1-4802-92c8-6f454183b010",
   "metadata": {},
   "outputs": [],
   "source": [
    "# Import dependancies\n",
    "\n",
    "import icepyx as ipx\n",
    "from earthdata import Auth, DataCollections, DataGranules, Store # Used to ingest data from NSIDC\n",
    "import geopandas as gpd # Used to subset regions using shapefile\n",
    "import rioxarray as rx # Used to read raster data from hdf5 files\n",
    "import numpy as np\n",
    "import matplotlib.pyplot as plt\n",
    "import xarray as xr\n",
    "import pandas as pd\n",
    "\n",
    "# %matplotlib inline\n",
    "%matplotlib widget "
   ]
  },
  {
   "cell_type": "code",
   "execution_count": null,
   "id": "130bde06-34e4-4ceb-9b84-6fb14861d1f3",
   "metadata": {},
   "outputs": [],
   "source": [
    "# Authenticate Earthdata credentials\n",
    "\n",
    "auth = Auth().login(strategy='netrc')\n",
    "if auth.authenticated is False:\n",
    "    auth = Auth().login(strategy='interactive')\n",
    "    \n",
    "earthdata_uid = 'lawrenceabird'\n",
    "email = 'lawrence.bird@monash.edu'"
   ]
  },
  {
   "cell_type": "markdown",
   "id": "fcc5b132-c09e-4c0d-bbf1-68d1612a4908",
   "metadata": {},
   "source": [
    "# Step 1 - Define static variables & Required processing steps"
   ]
  },
  {
   "cell_type": "code",
   "execution_count": null,
   "id": "bcccfc21-ab59-480c-b641-37dfbe2ce5ef",
   "metadata": {},
   "outputs": [],
   "source": [
    "# Set a location to store datasets\n",
    "data_loc = \"/home/jovyan/shared/ice-discharge-data/\"\n",
    "# data_loc = \"/home/jovyan/data/\"\n",
    "\n",
    "# Define collection IDs for all NSIDC datasets that are required\n",
    "bedmachine_collection = 'C1664160168-NSIDC_ECS' # MEaSUREs BedMachine dataset\n",
    "boundaries_collection = 'C1454773262-NSIDC_ECS' # MEaSUREs Boundaries dataset\n",
    "velocity_collection = 'C1414573008-NSIDC_ECS' # MEaSUREs Velocity dataset\n",
    "\n",
    "# Define the ice boundary/basin of interest\n",
    "basin = \"Totten\"\n"
   ]
  },
  {
   "cell_type": "code",
   "execution_count": null,
   "id": "881bdb35-8a2e-4dd3-b01e-df0580afca94",
   "metadata": {},
   "outputs": [],
   "source": [
    "# What processing steps are required?\n",
    "download_nsidc = False\n",
    "download_itslive = False\n",
    "download_atl = False"
   ]
  },
  {
   "cell_type": "markdown",
   "id": "20995b52-b639-457d-a255-df4bdc1f78c0",
   "metadata": {},
   "source": [
    "# Step 2 - Download (if required) key datasets"
   ]
  },
  {
   "cell_type": "markdown",
   "id": "35145642-19a3-414b-8d06-d71eebb12fb1",
   "metadata": {},
   "source": [
    "## Download NSIDC Datasets"
   ]
  },
  {
   "cell_type": "code",
   "execution_count": null,
   "id": "cb26d2a3-5537-40b4-abb6-8a913b5fa387",
   "metadata": {},
   "outputs": [],
   "source": [
    "# Download the NSIDC data (if required) - This only needs to be completed once as these datasets are Antarctic-wide.\n",
    "if download_nsidc == True:\n",
    "    access = Store(auth)\n",
    "    \n",
    "    # --- MEaSUREs BedMachine ---\n",
    "    bedmachine_query = DataGranules(auth).concept_id(bedmachine_collection)\n",
    "    bedmachine_granules = bedmachine_query.get()\n",
    "    bedmachine_files = access.get(bedmachine_granules, local_path = data_loc)\n",
    "    \n",
    "    # --- MEaSUREs Velocity ---\n",
    "    # velocity_query = DataGranules(auth).concept_id(velocity_collection)\n",
    "    # velocity_granules = velocity_query.get()\n",
    "    # velocity_files = access.get(velocity_granules, local_path = data_loc)\n",
    "    \n",
    "    # --- MEaSUREs Boundaries ---\n",
    "    boundaries_query = DataGranules(auth).concept_id(boundaries_collection)\n",
    "    boundaries_granules = boundaries_query.get()\n",
    "    \n",
    "    # TEMP: The following code section is a temporary fix to grab all files for multi-file granules. This is fixed in an udpated version of earhtdata.\n",
    "    # Create a list of links to individual data files from each granule\n",
    "    data_links = [granule.data_links() for granule in boundaries_granules]\n",
    "\n",
    "    # Loop over the list of data links for each granule - for each file, wget the file.\n",
    "    for i in data_links:\n",
    "        tmp = i\n",
    "        for j in tmp:\n",
    "            #print(j)\n",
    "            ! wget -nc {j} -P {data_loc+\"/boundaries\"}"
   ]
  },
  {
   "cell_type": "markdown",
   "id": "6874208e-58e8-492e-9872-d8f835f89918",
   "metadata": {},
   "source": [
    "## Download ITS_LIVE Velocity Dataset"
   ]
  },
  {
   "cell_type": "code",
   "execution_count": null,
   "id": "666894de-0de9-41c2-8cb3-b7737432f4d9",
   "metadata": {},
   "outputs": [],
   "source": [
    "# Download ITS_LIVE Annual velocity dataset - This only needs to be completed one as these datasets are Antarctic-wide.\n",
    "Resolution = \"240\"\n",
    "MosaicYear = \"2018\"\n",
    "\n",
    "if download_itslive == True:\n",
    "    # Resolution=input(\"Enter the desired velocity resolution (120 or 240): \")\n",
    "    # MosaicYear=input(\"Enter the desired year for its-live velocity mosaic (most recent 2018): \")\n",
    "\n",
    "    url = \"https://its-live-data.s3.amazonaws.com/velocity_mosaic/landsat/v00.0/annual/ANT_G0\"+Resolution+\"_\"+MosaicYear+\".nc\"\n",
    "\n",
    "    ! wget -nc {url} -P {data_loc+\"itslive\"}"
   ]
  },
  {
   "cell_type": "markdown",
   "id": "9e54e5f5-f78c-4233-8d35-bc70701ecbee",
   "metadata": {},
   "source": [
    "## Download ATL14 and ATL15 Datasets"
   ]
  },
  {
   "cell_type": "code",
   "execution_count": null,
   "id": "156c63dc-4ec5-4b75-915a-a5c2354bcba8",
   "metadata": {},
   "outputs": [],
   "source": [
    "if download_atl == True:\n",
    "    \n",
    "    # Ingest the boundaries to use as spatial extent for downloading ATL data\n",
    "    boundaries = gpd.read_file(data_loc+\"/boundaries/IceBoundaries_Antarctica_v02.shp\")# Ice Boundaries shapefile\n",
    "    \n",
    "    # Select single basin to extract bounds (doesnt matter which one) \n",
    "    aoi = boundaries[(boundaries[\"NAME\"] == basin) & (boundaries[\"TYPE\"] == \"GR\")]\n",
    "\n",
    "    # Rproject to EPSG 4326 (needed for icepyx)  \n",
    "    def reproject(geom, epsg=\"EPSG:4326\"):\n",
    "        '''Function to reproject GPD polygon (default EPSG=4326)'''\n",
    "        return geom.to_crs(epsg)\n",
    "    \n",
    "    # Reproject the aoi\n",
    "    aoi_proj = reproject(aoi)\n",
    "\n",
    "    # Extract bounding box coordinates and set to spatial extent for icepyx query \n",
    "    spatial_extent = list(aoi_proj.total_bounds)"
   ]
  },
  {
   "cell_type": "code",
   "execution_count": null,
   "id": "80cb907c-46c3-4850-bd82-4f94f8523281",
   "metadata": {},
   "outputs": [],
   "source": [
    "if download_atl == True:\n",
    "\n",
    "    #Set inputs to Icepyx download query \n",
    "    atl_15_name = 'ATL15'    \n",
    "   \n",
    "    # Make ipx Queries\n",
    "    atl_15 = ipx.Query(atl_15_name, spatial_extent)\n",
    "    # atl_15.visualize_spatial_extent()    \n",
    "\n",
    "    # Authenticate EarthData Login\n",
    "    atl_15.earthdata_login(earthdata_uid, email)\n",
    "    \n",
    "    # Order granules\n",
    "    atl_15.order_granules()\n",
    "    \n",
    "    # Download to data_loc\n",
    "    atl_15.download_granules(data_loc+\"atl15/\") \n",
    "    "
   ]
  },
  {
   "cell_type": "code",
   "execution_count": null,
   "id": "599314bb-1dac-4781-bbd2-9434ea0f14bc",
   "metadata": {},
   "outputs": [],
   "source": [
    "if download_atl == True:\n",
    "    \n",
    "    #Set inputs to Icepyx download query \n",
    "    atl_14_name = \"ATL14\"\n",
    "    \n",
    "    # Make ipx Queries\n",
    "    atl_14 = ipx.Query(atl_14_name, spatial_extent)\n",
    "    # atl14_.visualize_spatial_extent()\n",
    "    \n",
    "    # Authenticate EarthData Login\n",
    "    atl_14.earthdata_login(earthdata_uid, email)\n",
    "        \n",
    "    # Order granules\n",
    "    atl_14.order_granules()\n",
    "    \n",
    "    # Download to data_loc\n",
    "    atl_14.download_granules(data_loc+\"atl14/\") "
   ]
  },
  {
   "cell_type": "markdown",
   "id": "ff1e91e5-b79b-47d1-bbd2-0992f5bec586",
   "metadata": {},
   "source": [
    "# Step 3 - Crop Datasets to area-of-interest (basin)"
   ]
  },
  {
   "cell_type": "markdown",
   "id": "fbf4aed4-c296-41d4-8f41-08a7558fedb3",
   "metadata": {},
   "source": [
    "## Crop NSIDC Datasets"
   ]
  },
  {
   "cell_type": "code",
   "execution_count": null,
   "id": "f406a430-5872-4b87-b39c-700d4cb15c70",
   "metadata": {},
   "outputs": [],
   "source": [
    "# Ingest required NSIDC datasets\n",
    "boundaries = gpd.read_file(data_loc+\"/boundaries/IceBoundaries_Antarctica_v02.shp\")# Ice Boundaries shapefile\n",
    "gl = gpd.read_file(data_loc+\"/boundaries/GroundingLine_Antarctica_v02.shp\")# Grounding line shapefile\n",
    "bed = rx.open_rasterio(data_loc+\"BedMachineAntarctica_2019-11-05_v01.nc\", variable = \"bed\") # BedMachine "
   ]
  },
  {
   "cell_type": "code",
   "execution_count": null,
   "id": "3bbdcd62-567b-4796-82d1-9044ef1a3116",
   "metadata": {},
   "outputs": [],
   "source": [
    "# Isolated boundary for only grounded ice (GR) for the chosen basin\n",
    "aoi = boundaries[(boundaries[\"NAME\"] == basin) & (boundaries[\"TYPE\"] == \"GR\")]"
   ]
  },
  {
   "cell_type": "code",
   "execution_count": null,
   "id": "76ea63e4-ad9b-48c8-9345-c732d420e21e",
   "metadata": {},
   "outputs": [],
   "source": [
    "# Check the CRS of all NSIDC datasets\n",
    "# Double check the crs of all NSIDC datasets\n",
    "print(f\"BedMachineAntarctica CRS: \", bed.rio.crs)\n",
    "print(f\"aoi shapefile CRS: \", aoi.crs)\n",
    "print(f\"gl shapefile CRS: \", gl.crs)"
   ]
  },
  {
   "cell_type": "code",
   "execution_count": null,
   "id": "115ef85a-d3e6-47f0-a1f1-f2f75af07ed7",
   "metadata": {},
   "outputs": [],
   "source": [
    "# Clip/Mask the NSIDC Raster product(s) to the aoi basin boundary\n",
    "\n",
    "# Clip BedMachine Data to aoi\n",
    "bed.rio.set_spatial_dims(x_dim=\"x\", y_dim=\"y\", inplace=True)\n",
    "bed.rio.write_crs(\"EPSG:3031\", inplace=True) # Write the CRS to the bed object so that it's consistent with other objects\n",
    "bed_aoi = bed.rio.clip(aoi.geometry, aoi.crs)\n",
    "\n",
    "# Mask BedMachine Data to aoi\n",
    "bed_aoi = bed_aoi.where(bed_aoi['bed'] != -9999.) # Replace -9999. with nan\n",
    "bed_aoi['bed'].plot()"
   ]
  },
  {
   "cell_type": "code",
   "execution_count": null,
   "id": "11d9abfc-01c4-4075-9d97-93761641a93d",
   "metadata": {},
   "outputs": [],
   "source": [
    "## Clip Grounding line to aoi\n",
    "\n",
    "# gl_aoi = gpd.clip(gl, aoi)\n",
    "# gl_aoi.plot()\n",
    "\n",
    "## Convert grounding line to \"line\" from \"polygon\"\n",
    "\n",
    "gl_line = gl.geometry.boundary # Get grounding line linestring\n",
    "gl_aoi = gpd.clip(gl_line, aoi) # Clip Grounding line to aoi\n",
    "gl_aoi.plot()"
   ]
  },
  {
   "cell_type": "code",
   "execution_count": null,
   "id": "5101403c-66fb-47dd-b440-8e6cd96b0d03",
   "metadata": {},
   "outputs": [],
   "source": [
    "# Buffer grounding line for reduce aoi (if required)\n",
    "\n",
    "# buffer_distance = -1 # meter, distance of buffer: set to 0 if only along the grounding line\n",
    "# \"\"\"\n",
    "# BedMachineAntarctica has a 500m resolution, only distance >= this value would create meaningful buffer area.\n",
    "# min_buffer_distance value can be adjusted according to different datasets\n",
    "# \"\"\"\n",
    "# min_buffer_distance = 500 \n",
    "# if buffer_distance == 0: # Only along the grounding line\n",
    "#     aoi = gl_aoi\n",
    "# elif buffer_distance >= min_buffer_distance: # use a buffer to crop an area upstream of grounding line\n",
    "#     aoi = gpd.clip(aoi, gl) # in case ice boundary is outside of GL: exclude potential area downstream of grounding line\n",
    "#     aoi = gpd.clip(aoi, gl_aoi.buffer(buffer_distance, cap_style=1, join_style=1))\n",
    "# else:\n",
    "#     print(\"\\nStill using drainage basin outline.\\nSet buffer_distance to 0 if you are only interested in grounding line.\")\n",
    "#     print(\"Or assign a positive number >= \"+str(min_buffer_distance)+\" to buffer_distance if you want to get an area upstream of grounding line.\")\n",
    "\n",
    "# aoi.plot()\n",
    "# # polygon = gl_aoi.geometry.boundary.buffer(10000, cap_style=2, join_style=2)\n",
    "# # GL_basin_buffered = gl_aoi.intersection(polygon)\n",
    "# # GL_basin_buffered.plot()\n",
    "\n",
    "# # polygon = gl_aoi.geometry.boundary.buffer(10000, cap_style=2, join_style=2)\n",
    "# # polygon_GL_basin_buffered = gl_aoi.intersection(polygon)\n",
    "# # line_GL_basin_buffered = gl_aoi.intersection(gl.geometry.boundary)\n",
    "# # line_GL_basin_buffered.plot()"
   ]
  },
  {
   "cell_type": "markdown",
   "id": "3a41894e-100b-4439-bdd2-a207de8a74c9",
   "metadata": {},
   "source": [
    "## Crop ITS_LIVE Datasets"
   ]
  },
  {
   "cell_type": "code",
   "execution_count": null,
   "id": "78ae307f-2e28-470f-a7b7-b92440fe9315",
   "metadata": {},
   "outputs": [],
   "source": [
    "## Crop ITS_LIVE Velocity dataset (vel_aoi)\n",
    "vel=rx.open_rasterio(data_loc+\"itslive/ANT_G0240_\"+MosaicYear+\".nc\",variable ='v')\n",
    "\n",
    "# Check crs\n",
    "print(f\"its-live-crs: \", vel.rio.crs)\n",
    "print(f\"aoi shapefile CRS: \", aoi.crs)\n",
    "print(vel)\n",
    "\n",
    "# Clip/Mask applied to its-live\n",
    "vel.rio.set_spatial_dims(x_dim=\"x\", y_dim=\"y\", inplace=True)\n",
    "vel.rio.write_crs(\"EPSG:3031\", inplace=True) #its-live already in EPSG 3031 but lets be sure\n",
    "vel_aoi = vel.rio.clip(aoi.geometry, aoi.crs) #the clip\n",
    "\n",
    "# Mask out all negative data\n",
    "vel_aoi = vel_aoi.where(vel_aoi['v'] > 0.) # Replace -. with nan\n",
    "vel_aoi['v'].plot()"
   ]
  },
  {
   "cell_type": "markdown",
   "id": "5edf62ae-2394-45db-9fe2-e219e6cd3c1c",
   "metadata": {},
   "source": [
    "## Crop ATL Datasets"
   ]
  },
  {
   "cell_type": "code",
   "execution_count": null,
   "id": "52627f9a-013e-4081-af27-ad43582c3600",
   "metadata": {},
   "outputs": [],
   "source": [
    "# Define function to clip raster to a given ragion\n",
    "'''\n",
    "Clip raster using a shapefile\n",
    "aoi: shapefile of interested region; ds: xarray dataset (bedmachine, atl14/15,...);\n",
    "x_dim/y_dim: variable name of x and y dimensions in xarray dataset (typically is \"x\", \"y\")\n",
    "'''\n",
    "def clip_raster(aoi, ds, x_dim, y_dim):\n",
    "    # Clip a xarray dataset Data to aoi\n",
    "    ds.rio.set_spatial_dims(x_dim=x_dim, y_dim=y_dim, inplace=True)\n",
    "    ds.rio.write_crs(\"EPSG:3031\", inplace=True) # Write the CRS to the bed object so that it's consistent with other objects\n",
    "    ds_aoi = ds.rio.clip(aoi.geometry, aoi.crs)\n",
    "    return ds_aoi"
   ]
  },
  {
   "cell_type": "code",
   "execution_count": null,
   "id": "e829660a-2790-43fa-886e-eee3e949ccbf",
   "metadata": {},
   "outputs": [],
   "source": [
    "# Crop ATL14 and ATL15 using aoi shapefile\n",
    "\n",
    "# %%time\n",
    "\n",
    "atl_n = [\"atl14\", \"atl15\"]\n",
    "\n",
    "for fdir in atl_n:\n",
    "    if fdir == \"atl14\":\n",
    "        atl_f = data_loc + fdir +\"/ATL14_AA_0311_100m_001_01.nc\"\n",
    "        atl14 = xr.open_dataset(atl_f)\n",
    "        atl_h = atl14[['h']]\n",
    "        \n",
    "        # Crop using the bounding box of aoi first\n",
    "        aoi_bound_x = [aoi.total_bounds[0], aoi.total_bounds[2]]\n",
    "        aoi_bound_y = [aoi.total_bounds[1], aoi.total_bounds[3]]\n",
    "        atl_h = atl_h.rio.write_crs(\"EPSG:3031\", inplace=True)\n",
    "        atl_h = atl_h.rio.clip_box(\n",
    "            minx=min(aoi_bound_x),\n",
    "            miny=min(aoi_bound_y),\n",
    "            maxx=max(aoi_bound_x),\n",
    "            maxy=max(aoi_bound_y),\n",
    "        )\n",
    "        \n",
    "        # Crop using the aoi shapefile\n",
    "        atl_h_aoi = clip_raster(aoi, atl_h, \"x\", \"y\")\n",
    "    elif fdir == \"atl15\":\n",
    "        atl_f = data_loc + fdir +\"/ATL15_AA_0311_01km_001_01.nc\"\n",
    "        atl15 = xr.open_dataset(atl_f, group=\"delta_h\")\n",
    "        atl_dh = atl15[['delta_h']]\n",
    "        atl_dh_aoi = clip_raster(aoi, atl_dh, \"x\", \"y\")"
   ]
  },
  {
   "cell_type": "code",
   "execution_count": null,
   "id": "253e35ac-0dce-4aeb-96c9-dc3858f487e7",
   "metadata": {},
   "outputs": [],
   "source": [
    "# atl_h_aoi.h.plot()"
   ]
  },
  {
   "cell_type": "code",
   "execution_count": null,
   "id": "23bcffc2-aa9a-4e09-be34-071555f8a423",
   "metadata": {},
   "outputs": [],
   "source": [
    "# atl_dh_aoi.delta_h[0,:,:].plot()"
   ]
  },
  {
   "cell_type": "markdown",
   "id": "ac936450-806b-4554-90b8-533bd2feb987",
   "metadata": {},
   "source": [
    "# Step 4 - Calculate Seasonal DEMs from ATL Data"
   ]
  },
  {
   "cell_type": "code",
   "execution_count": null,
   "id": "65b6c1aa-f6cc-4e30-9ae1-64f680cdf577",
   "metadata": {},
   "outputs": [],
   "source": [
    "## Add atl15_aoi to atl14_aoi to generate 1 DEM for each ICESat-2 cycle (surf_X_aoi)"
   ]
  },
  {
   "cell_type": "markdown",
   "id": "0eb95302-70d1-45c3-b645-5a8626eab1f0",
   "metadata": {},
   "source": [
    "# Step 5 - Resample and align all rasters (if necessary)"
   ]
  },
  {
   "cell_type": "code",
   "execution_count": null,
   "id": "3c523e1c-b496-4eeb-b3ca-68d19e43f22b",
   "metadata": {},
   "outputs": [],
   "source": [
    "## Resample / align the following datasets:\n",
    "# - BedMachine Bed Topography\n",
    "# - ITS_LIVE Velocity\n",
    "# - ATL Seasonal DEMs"
   ]
  },
  {
   "cell_type": "markdown",
   "id": "a94f8d6c-da76-4b68-852a-8da98d469bfa",
   "metadata": {},
   "source": [
    "# Step 6 - Calculuate Ice Thickness"
   ]
  },
  {
   "cell_type": "code",
   "execution_count": null,
   "id": "16150472-b764-451f-bfc1-aa11979ced6e",
   "metadata": {},
   "outputs": [],
   "source": [
    "## Calculate seasonal ice thickness (thick_X_aoi) as difference of Seasonal DEM and BedMachine"
   ]
  },
  {
   "cell_type": "markdown",
   "id": "f54ea3db-f290-44a5-a4e8-11ab78bf346a",
   "metadata": {},
   "source": [
    "# Step 7 - Extract values along Flux Gate"
   ]
  },
  {
   "cell_type": "code",
   "execution_count": null,
   "id": "f9a3e663-d444-4ce7-a977-3a7fac3663e2",
   "metadata": {},
   "outputs": [],
   "source": [
    "# Modified from https://stackoverflow.com/questions/62283718/how-to-extract-a-profile-of-value-from-a-raster-along-a-given-line\n",
    "\n",
    "# Extract values along a line\n",
    "def extract_along_line(xarr, line):\n",
    "    profile = []\n",
    "    n_samples=int(np.ceil(line.length.item()/1000)) # Sample the grounding line every 250m\n",
    "\n",
    "    for i in range(n_samples):\n",
    "        # get next point on the line\n",
    "        point = line.interpolate(i / n_samples - 1., normalized=True)\n",
    "        # access the nearest pixel in the xarray\n",
    "        value = xarr.sel(x=point.x, y=point.y, method=\"nearest\").data\n",
    "        if len(value) == 1:\n",
    "            profile.append(value.item())\n",
    "        elif len(value) > 1:\n",
    "            profile.append(value)\n",
    "        \n",
    "    return profile"
   ]
  },
  {
   "cell_type": "code",
   "execution_count": null,
   "id": "e257c14e-d79a-4234-a518-2b44e6aa804d",
   "metadata": {},
   "outputs": [],
   "source": [
    "# Sample bedmachine along the grounding line\n",
    "# This required the full dataset (and not the aoi region subset) as missing pixels occur when using the subset (presumably because they land on the boundary/on the line\n",
    "# that is used when clipping/masking.\n",
    "\n",
    "Bed_profile = extract_along_line(bed.bed, gl_aoi)"
   ]
  },
  {
   "cell_type": "code",
   "execution_count": null,
   "id": "fdc668f7-4efc-4304-aec8-f0ae02a28a34",
   "metadata": {},
   "outputs": [],
   "source": [
    "%%time\n",
    "\n",
    "# Sample ATL14 and ATL15 along the grounding line\n",
    "atl_n = [\"atl14\", \"atl15\"]\n",
    "for fdir in atl_n:\n",
    "    if fdir == \"atl14\":\n",
    "        atl_f = data_loc + fdir +\"/ATL14_AA_0311_100m_001_01.nc\"\n",
    "        atl14 = xr.open_dataset(atl_f)\n",
    "        atl_h = atl14[['h']]\n",
    "        atl_h_profile = extract_along_line(atl_h.h, gl_aoi)\n",
    "        \n",
    "    elif fdir == \"atl15\":\n",
    "        atl_f = data_loc + fdir +\"/ATL15_AA_0311_01km_001_01.nc\"\n",
    "        atl15 = xr.open_dataset(atl_f, group=\"delta_h\")\n",
    "        atl_dh = atl15[['delta_h']]\n",
    "        atl_dh_profile = extract_along_line(atl_dh.delta_h, gl_aoi)\n",
    "        \n",
    "atl_dh_profile = np.squeeze(np.array(atl_dh_profile)).T"
   ]
  },
  {
   "cell_type": "code",
   "execution_count": null,
   "id": "1c3ac04c-56a3-4ed7-a728-6d4f312222b5",
   "metadata": {},
   "outputs": [],
   "source": [
    "# # Save to a dataframe\n",
    "# df_profile = pd.DataFrame({'bed': Bed_profile})\n",
    "# df_profile['atl14_h'] = atl_h_profile\n",
    "\n",
    "# for i in range(len(atl15.time)):\n",
    "#     col_n = \"cycle\"+str(i+1)\n",
    "#     df_profile[col_n] = atl_dh_profile[i]"
   ]
  },
  {
   "cell_type": "code",
   "execution_count": null,
   "id": "f65459f1-4374-468f-868e-6bad582737a8",
   "metadata": {},
   "outputs": [],
   "source": [
    "# # Plot along the grounding line\n",
    "# fig, ax = plt.subplots(figsize = (15,4))\n",
    "# ax.plot(df_profile['bed'], c = 'k')\n",
    "# ax.plot(df_profile['atl14_h'], c = 'r')\n",
    "# for i in range(len(atl15.time)):\n",
    "#     col_n = \"cycle\"+str(i+1)\n",
    "#     ax.plot(df_profile[col_n])"
   ]
  },
  {
   "cell_type": "markdown",
   "id": "8122011b-1b1d-4a0b-836a-f1841088d6bd",
   "metadata": {},
   "source": [
    "# Step 8 - Compute Ice flux"
   ]
  },
  {
   "cell_type": "code",
   "execution_count": 56,
   "id": "f3f58f04-b604-40f7-995c-ee11f2f8bd4c",
   "metadata": {},
   "outputs": [
    {
     "data": {
      "application/vnd.jupyter.widget-view+json": {
       "model_id": "8987efaf0816441e8454ed36ff670a8a",
       "version_major": 2,
       "version_minor": 0
      },
      "image/png": "[encoded data removed]",
      "text/html": [
       "\n",
       "            <div style=\"display: inline-block;\">\n",
       "                <div class=\"jupyter-widgets widget-label\" style=\"text-align: center;\">\n",
       "                    Figure\n",
       "                </div>\n",
       "                <img src='data:image/png;base64,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' width=1080.0/>\n",
       "            </div>\n",
       "        "
      ],
      "text/plain": [
       "Canvas(toolbar=Toolbar(toolitems=[('Home', 'Reset original view', 'home', 'home'), ('Back', 'Back to previous …"
      ]
     },
     "metadata": {},
     "output_type": "display_data"
    }
   ],
   "source": [
    "# Calculate seasonal DEMs based on atl_h_profile (atl14) and atl_dh_profile (atl15\n",
    "\n",
    "profile = pd.DataFrame({'bed': Bed_profile})\n",
    "\n",
    "for i in range(len(atl15.time)):\n",
    "    col_n = \"cycle\"+str(i+1)\n",
    "    profile[col_n] = atl_h_profile + atl_dh_profile[i]\n",
    "\n",
    "# df_profile['atl14_h'] + df_profile['cycle1']\n",
    "\n",
    "fig, ax = plt.subplots(figsize = (15,4))\n",
    "ax.plot(df_profile['bed'], c = 'k')\n",
    "\n",
    "for i in range(len(atl15.time)):\n",
    "    col_n = \"cycle\"+str(i+1)\n",
    "    ax.plot(profile[col_n])\n",
    "\n",
    "    \n",
    "# "
   ]
  },
  {
   "cell_type": "markdown",
   "id": "3bcc3fdd-7c4c-4380-b31e-b3675f7030c8",
   "metadata": {},
   "source": [
    "# Step 9 - Plot Timeseries of Ice Flux"
   ]
  },
  {
   "cell_type": "code",
   "execution_count": null,
   "id": "6b0be9f0-4a5e-4823-af99-73f9ac460c41",
   "metadata": {},
   "outputs": [],
   "source": [
    "## Bam."
   ]
  },
  {
   "cell_type": "code",
   "execution_count": null,
   "id": "be3724e7-2904-4dc5-b6e5-e3713d596c4d",
   "metadata": {},
   "outputs": [],
   "source": [
    "bed_aoi.rio.resolution()"
   ]
  },
  {
   "cell_type": "code",
   "execution_count": null,
   "id": "ae0c1edd-0d54-47a3-b430-73d392c6eb3b",
   "metadata": {},
   "outputs": [],
   "source": [
    "vel_aoi.rio.resolution()"
   ]
  },
  {
   "cell_type": "code",
   "execution_count": null,
   "id": "f2efc427-eb81-4661-b221-b8e914073760",
   "metadata": {},
   "outputs": [],
   "source": []
  }
 ],
 "metadata": {
  "kernelspec": {
   "display_name": "Python 3 (ipykernel)",
   "language": "python",
   "name": "python3"
  },
  "language_info": {
   "codemirror_mode": {
    "name": "ipython",
    "version": 3
   },
   "file_extension": ".py",
   "mimetype": "text/x-python",
   "name": "python",
   "nbconvert_exporter": "python",
   "pygments_lexer": "ipython3",
   "version": "3.9.10"
  }
 },
 "nbformat": 4,
 "nbformat_minor": 5
}
