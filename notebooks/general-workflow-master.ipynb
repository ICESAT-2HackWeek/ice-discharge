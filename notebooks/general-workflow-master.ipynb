{
 "cells": [
  {
   "cell_type": "markdown",
   "id": "81dacfe2-ff02-4ec1-a84c-ffe775611da6",
   "metadata": {},
   "source": [
    "# **2022-ice_discharge** - Calculate Grounded Ice Flux\n",
    "\n",
    "This notebook provides a general workflow to estimate grounded ice fluxes for [any] mapped ice boundaries in Antarctica. The following datasets are used *(as of Version -1.0)*:\n",
    "* MEaSUREs BedMachine Bed Topography\n",
    "* MEaSUREs Grounding Line\n",
    "* MEaSUREs Ice Boundaries\n",
    "* ATL15 Gridded Land Ice Height\n",
    "* ...\n",
    "\n",
    "## Contributors\n",
    "\n",
    "* Mark Hehlen\n",
    "* Bryony Freer\n",
    "* Emily Glazer\n",
    "* Hui Gao\n",
    "* Julia Andreasen\n",
    "* Lizzie Hebel\n",
    "* Lawrence Bird\n",
    "\n",
    "## General workflow\n",
    "\n",
    "The general approach for this work is as follows:\n",
    "1. Define an area-of-interest (ice boundary)\n",
    "2. Ingest key datasets from NSIDC\n",
    "3. Crop Antarctica-wide datasets to given area-of-interest\n",
    "\n",
    "4. \n",
    "- Download ATL14 (specific resolution)\n",
    "- Download ATL15 (specific resolution)\n",
    "- Can we do this for a line? if so, just download the data for the given flux gate (use grounding line to start with)\n",
    "- Ingest ATL14 & AT15 data\n",
    "- Crop ATl14 & ATL15 data for the aoi\n",
    "- Calculate ATL14 + ATL15 DEMs (12 total)\n",
    "\n",
    "5.\n",
    "- Download velocity data (ITS_LIVE / MEaSUREs)\n",
    "- Ingest velocity data\n",
    "- Crop velocity data for the aoi\n",
    "\n",
    "6. Align all raster data into A) consistent CRS and B) consistent grid. this sounds hard.\n",
    "\n",
    "7. Calculate ice thickness as the difference between ICESat-2 DEM and MEaSUREs bed topography DEM\n",
    "\n",
    "8. Define a \"flux-gate\" based on mapped grounding line locations. Grounding lines are moved \"upstream\" X km to remove influence from floating ice\n",
    "9. Calculate the flux across the flux-gate at a given time (t)\n",
    "10. Plot a timeseries of the ice flux\n",
    "\n",
    "### Future Expansion\n",
    "\n",
    "Potential expansion of the current workflow includes:\n",
    "* \n",
    "* \n",
    " \n"
   ]
  },
  {
   "cell_type": "markdown",
   "id": "e7a551f2-eb11-46eb-8221-3df78f6cb9cd",
   "metadata": {},
   "source": [
    "# Step 0 - Dependancies & Authentication"
   ]
  },
  {
   "cell_type": "code",
   "execution_count": null,
   "id": "a392eef3-68a1-4802-92c8-6f454183b010",
   "metadata": {},
   "outputs": [],
   "source": [
    "# Import dependancies\n",
    "\n",
    "import icepyx as ipx\n",
    "from earthdata import Auth, DataCollections, DataGranules, Store # Used to ingest data from NSIDC\n",
    "import geopandas as gpd # Used to subset regions using shapefile\n",
    "import rioxarray as rx # Used to read raster data from hdf5 files\n",
    "import numpy as np\n",
    "import matplotlib.pyplot as plt\n",
    "\n",
    "%matplotlib inline\n",
    "#%matplotlib widget "
   ]
  },
  {
   "cell_type": "code",
   "execution_count": null,
   "id": "130bde06-34e4-4ceb-9b84-6fb14861d1f3",
   "metadata": {},
   "outputs": [],
   "source": [
    "# Authenticate Earthdata credentials\n",
    "\n",
    "auth = Auth().login(strategy='netrc')\n",
    "if auth.authenticated is False:\n",
    "    auth = Auth().login(strategy='interactive')"
   ]
  },
  {
   "cell_type": "markdown",
   "id": "fcc5b132-c09e-4c0d-bbf1-68d1612a4908",
   "metadata": {},
   "source": [
    "# Step 1 - Define static variables & Required processing steps"
   ]
  },
  {
   "cell_type": "code",
   "execution_count": null,
   "id": "bcccfc21-ab59-480c-b641-37dfbe2ce5ef",
   "metadata": {},
   "outputs": [],
   "source": [
    "# Set a location to store datasets\n",
    "data_loc = \"/home/jovyan/data/\"\n",
    "\n",
    "# Define collection IDs for all NSIDC datasets that are required\n",
    "bedmachine_collection = 'C1664160168-NSIDC_ECS' # MEaSUREs BedMachine dataset\n",
    "boundaries_collection = 'C1454773262-NSIDC_ECS' # MEaSUREs Boundaries dataset\n",
    "velocity_collection = 'C1414573008-NSIDC_ECS' # MEaSUREs Velocity dataset\n",
    "\n",
    "# Define the ice boundary/basin of interest\n",
    "basin = \"Totten\"\n"
   ]
  },
  {
   "cell_type": "code",
   "execution_count": null,
   "id": "881bdb35-8a2e-4dd3-b01e-df0580afca94",
   "metadata": {},
   "outputs": [],
   "source": [
    "# What processing steps are required?\n",
    "download_nsidc = True\n",
    "download_atl = True"
   ]
  },
  {
   "cell_type": "markdown",
   "id": "20995b52-b639-457d-a255-df4bdc1f78c0",
   "metadata": {},
   "source": [
    "# Step 2 - Download (if required) & Ingest key NSIDC Datasets "
   ]
  },
  {
   "cell_type": "code",
   "execution_count": null,
   "id": "cb26d2a3-5537-40b4-abb6-8a913b5fa387",
   "metadata": {},
   "outputs": [],
   "source": [
    "# Download the NSIDC data (if required) - This only needs to be completed once as these datasets are Antarctic-wide.\n",
    "if download_nsidc == True:\n",
    "    access = Store(auth)\n",
    "    \n",
    "    # --- MEaSUREs BedMachine ---\n",
    "    bedmachine_query = DataGranules(auth).concept_id(bedmachine_collection)\n",
    "    bedmachine_granules = bedmachine_query.get()\n",
    "    bedmachine_files = access.get(bedmachine_granules, local_path = data_loc)\n",
    "    \n",
    "    # --- MEaSUREs Velocity ---\n",
    "    # velocity_query = DataGranules(auth).concept_id(velocity_collection)\n",
    "    # velocity_granules = velocity_query.get()\n",
    "    # velocity_files = access.get(velocity_granules, local_path = data_loc)\n",
    "    \n",
    "    # --- MEaSUREs Boundaries ---\n",
    "    boundaries_query = DataGranules(auth).concept_id(boundaries_collection)\n",
    "    boundaries_granules = boundaries_query.get()\n",
    "    \n",
    "    # TEMP: The following code section is a temporary fix to grab all files for multi-file granules. This is fixed in an udpated version of earhtdata.\n",
    "    # Create a list of links to individual data files from each granule\n",
    "    data_links = [granule.data_links() for granule in boundaries_granules]\n",
    "\n",
    "    # Loop over the list of data links for each granule - for each file, wget the file.\n",
    "    for i in data_links:\n",
    "        tmp = i\n",
    "        for j in tmp:\n",
    "            #print(j)\n",
    "            ! wget -nc {j} -P {data_loc+\"/boundaries\"}   "
   ]
  },
  {
   "cell_type": "markdown",
   "id": "ff1e91e5-b79b-47d1-bbd2-0992f5bec586",
   "metadata": {},
   "source": [
    "# Step 3 - Crop NSIDC Datasets to area-of-interest"
   ]
  },
  {
   "cell_type": "code",
   "execution_count": null,
   "id": "f406a430-5872-4b87-b39c-700d4cb15c70",
   "metadata": {},
   "outputs": [],
   "source": [
    "# Ingest required NSIDC datasets\n",
    "boundaries = gpd.read_file(data_loc+\"/boundaries/IceBoundaries_Antarctica_v02.shp\")# Ice Boundaries shapefile\n",
    "gl = gpd.read_file(data_loc+\"/boundaries/GroundingLine_Antarctica_v02.shp\")# Grounding line shapefile\n",
    "bed = rx.open_rasterio(data_loc+\"BedMachineAntarctica_2019-11-05_v01.nc\", variable = \"bed\") # BedMachine "
   ]
  },
  {
   "cell_type": "code",
   "execution_count": null,
   "id": "3bbdcd62-567b-4796-82d1-9044ef1a3116",
   "metadata": {},
   "outputs": [],
   "source": [
    "# Isolated boundary for only grounded ice (GR) for the chosen basin\n",
    "aoi = boundaries[(boundaries[\"NAME\"] == basin) & (boundaries[\"TYPE\"] == \"GR\")]"
   ]
  },
  {
   "cell_type": "code",
   "execution_count": null,
   "id": "76ea63e4-ad9b-48c8-9345-c732d420e21e",
   "metadata": {},
   "outputs": [],
   "source": [
    "# Check the CRS of all NSIDC datasets\n",
    "# Double check the crs of all NSIDC datasets\n",
    "print(f\"BedMachineAntarctica CRS: \", bed.rio.crs)\n",
    "print(f\"aoi shapefile CRS: \", aoi.crs)\n",
    "print(f\"gl shapefile CRS: \", gl.crs)"
   ]
  },
  {
   "cell_type": "code",
   "execution_count": null,
   "id": "115ef85a-d3e6-47f0-a1f1-f2f75af07ed7",
   "metadata": {},
   "outputs": [],
   "source": [
    "# Clip/Mask the NSIDC Raster product(s) to the aoi basin boundary\n",
    "\n",
    "# Clip BedMachine Data to aoi\n",
    "bed.rio.set_spatial_dims(x_dim=\"x\", y_dim=\"y\", inplace=True)\n",
    "bed.rio.write_crs(\"EPSG:3031\", inplace=True) # Write the CRS to the bed object so that it's consistent with other objects\n",
    "bed_aoi = bed.rio.clip(aoi.geometry, aoi.crs)\n",
    "\n",
    "# Mask BedMachine Data to aoi\n",
    "bed_aoi_masked = bed_aoi.where(bed_aoi['bed'] != -9999.) # Replace -9999. with nan\n",
    "bed_aoi_masked['bed'].plot()"
   ]
  },
  {
   "cell_type": "code",
   "execution_count": null,
   "id": "11d9abfc-01c4-4075-9d97-93761641a93d",
   "metadata": {},
   "outputs": [],
   "source": [
    "## Clip Grounding line to aoi\n",
    "\n",
    "gl_aoi = gpd.clip(gl, aoi)\n",
    "gl_aoi.plot()"
   ]
  },
  {
   "cell_type": "markdown",
   "id": "ac936450-806b-4554-90b8-533bd2feb987",
   "metadata": {},
   "source": [
    "# Step 4 - Download ATL15 data in study area basin"
   ]
  },
  {
   "cell_type": "code",
   "execution_count": null,
   "id": "65b6c1aa-f6cc-4e30-9ae1-64f680cdf577",
   "metadata": {},
   "outputs": [],
   "source": [
    "# IN PROGRESS"
   ]
  },
  {
   "cell_type": "code",
   "execution_count": null,
   "id": "b97df1ad-23d3-4c15-b94c-b6a0653d77f5",
   "metadata": {},
   "outputs": [],
   "source": []
  },
  {
   "cell_type": "code",
   "execution_count": null,
   "id": "3c523e1c-b496-4eeb-b3ca-68d19e43f22b",
   "metadata": {},
   "outputs": [],
   "source": []
  },
  {
   "cell_type": "code",
   "execution_count": null,
   "id": "1512e8d1-9ab2-4341-8ab7-ac4a75cdbaff",
   "metadata": {},
   "outputs": [],
   "source": []
  },
  {
   "cell_type": "code",
   "execution_count": null,
   "id": "16150472-b764-451f-bfc1-aa11979ced6e",
   "metadata": {},
   "outputs": [],
   "source": []
  },
  {
   "cell_type": "code",
   "execution_count": null,
   "id": "7549a60c-5c59-4826-a802-5e20b1eff628",
   "metadata": {},
   "outputs": [],
   "source": []
  }
 ],
 "metadata": {
  "kernelspec": {
   "display_name": "Python 3 (ipykernel)",
   "language": "python",
   "name": "python3"
  },
  "language_info": {
   "codemirror_mode": {
    "name": "ipython",
    "version": 3
   },
   "file_extension": ".py",
   "mimetype": "text/x-python",
   "name": "python",
   "nbconvert_exporter": "python",
   "pygments_lexer": "ipython3",
   "version": "3.9.10"
  }
 },
 "nbformat": 4,
 "nbformat_minor": 5
}
